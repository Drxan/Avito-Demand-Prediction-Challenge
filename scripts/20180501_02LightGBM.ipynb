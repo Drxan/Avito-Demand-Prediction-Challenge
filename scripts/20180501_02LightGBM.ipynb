{
 "cells": [
  {
   "cell_type": "code",
   "execution_count": 1,
   "metadata": {},
   "outputs": [],
   "source": [
    "import itertools\n",
    "import pandas as pd\n",
    "import numpy as np\n",
    "import matplotlib.pyplot as plt\n",
    "import seaborn as sns\n",
    "from sklearn.model_selection import train_test_split,GridSearchCV\n",
    "from xgboost.sklearn import XGBClassifier\n",
    "import xgboost as xgb\n",
    "from sklearn import metrics\n",
    "import lightgbm as lgb\n",
    "from copy import deepcopy\n",
    "# import graphviz\n",
    "import os\n",
    "from sklearn import preprocessing\n",
    "%matplotlib inline\n",
    "plt.rcParams['figure.figsize']=12,4"
   ]
  },
  {
   "cell_type": "code",
   "execution_count": 74,
   "metadata": {
    "collapsed": true
   },
   "outputs": [],
   "source": [
    "current_dir = r'D:\\yuwei\\study\\competition\\Predict-demand-online-classified-ad'\n",
    "data_dirs = dict()\n",
    "data_dirs['train_data'] = os.path.join(current_dir, 'data/train.csv')\n",
    "data_dirs['test_data'] = os.path.join(current_dir, 'data/test.csv')\n",
    "data_dirs['pred_result'] = os.path.join(current_dir, 'data/20180501_02LightGBM.csv')\n",
    "data_dirs['model_path'] = os.path.join(current_dir, 'data/model_data/20180501_02LightGBM.pkl')"
   ]
  },
  {
   "cell_type": "code",
   "execution_count": 3,
   "metadata": {
    "collapsed": true
   },
   "outputs": [],
   "source": [
    "def prepare_data(data_dirs):\n",
    "    train_df = pd.read_csv(data_dirs['train_data'], parse_dates=[\"activation_date\"])\n",
    "    test_df = pd.read_csv(data_dirs['test_data'], parse_dates=[\"activation_date\"])\n",
    "    \n",
    "    use_features = set()\n",
    "\n",
    "    train_y = train_df[\"deal_probability\"].values\n",
    "    test_id = test_df[\"item_id\"].values\n",
    "    # explore features\n",
    "    # weekday\n",
    "    train_df[\"activation_weekday\"] = train_df[\"activation_date\"].dt.weekday\n",
    "    test_df[\"activation_weekday\"] = test_df[\"activation_date\"].dt.weekday\n",
    "    # hour\n",
    "    train_df['activation_hour'] = train_df[\"activation_date\"].dt.hour\n",
    "    test_df['activation_hour'] = test_df[\"activation_date\"].dt.hour\n",
    "    \n",
    "    use_features.update(['activation_weekday','activation_hour'])\n",
    "    \n",
    "    # Label encode the categorical variables #\n",
    "    cat_vars = [\"region\", \"city\", \"parent_category_name\", \"category_name\", \"user_type\", \"param_1\", \"param_2\", \"param_3\"]\n",
    "    for col in cat_vars:\n",
    "        lbl = preprocessing.LabelEncoder()\n",
    "        lbl.fit(list(train_df[col].values.astype('str')) + list(test_df[col].values.astype('str')))\n",
    "        train_df[col] = lbl.transform(list(train_df[col].values.astype('str')))\n",
    "        test_df[col] = lbl.transform(list(test_df[col].values.astype('str')))\n",
    "    \n",
    "    use_features.update(cat_vars)\n",
    "    \n",
    "    # title length\n",
    "    train_df['title_len'] = train_df['title'].apply(len)\n",
    "    test_df['title_len'] = test_df['title'].apply(len)\n",
    "    # description length\n",
    "    train_df['descrip_len'] = train_df['description'].apply(lambda x: 0 if x is np.nan else len(x))\n",
    "    test_df['descrip_len'] = test_df['description'].apply(lambda x: 0 if x is np.nan else len(x))\n",
    "    \n",
    "    use_features.update(['title_len', 'descrip_len'])\n",
    "    use_features.update(['price', 'item_seq_number', 'image_top_1'])\n",
    "    use_features=list(use_features)\n",
    "    train_X = train_df[use_features]\n",
    "    test_X = test_df[use_features]\n",
    "    return train_X, train_y, test_X, test_id, cat_vars+['activation_weekday','activation_hour']"
   ]
  },
  {
   "cell_type": "code",
   "execution_count": 4,
   "metadata": {
    "collapsed": true
   },
   "outputs": [],
   "source": [
    "train_X, train_y, test_X, test_id, cat_vars= prepare_data(data_dirs)"
   ]
  },
  {
   "cell_type": "code",
   "execution_count": 5,
   "metadata": {
    "collapsed": true
   },
   "outputs": [],
   "source": [
    "X_train,X_val,y_train,y_val=train_test_split(train_X,train_y,test_size=0.20,random_state=9)"
   ]
  },
  {
   "cell_type": "markdown",
   "metadata": {},
   "source": [
    "# 1 Base line"
   ]
  },
  {
   "cell_type": "code",
   "execution_count": 45,
   "metadata": {
    "collapsed": true
   },
   "outputs": [],
   "source": [
    "def modelfit(alg,X,y,X_test,y_test,cat_features,cvparams,folds=None,useTrainCV=True,cv_folds=5,early_stopping_rounds=30):\n",
    "    feature_names=list(X.columns)\n",
    "    if useTrainCV==True:\n",
    "        dtrain=lgb.Dataset(X, label=y, reference=None, \n",
    "                           weight=None, group=None, silent=False, feature_name=feature_names,\n",
    "                            categorical_feature=cat_features,params=None, free_raw_data=True)\n",
    "        cvresult=lgb.cv(cvparams,dtrain,num_boost_round=5000,folds=folds,nfold=cv_folds,stratified=False,\n",
    "                        metrics='rmse',feature_name=feature_names,categorical_feature=cat_features,early_stopping_rounds=early_stopping_rounds,\n",
    "                        verbose_eval=20,show_stdv =True,seed=9)\n",
    "        #,feval=gini_normalized\n",
    "        alg.set_params(n_estimators=len(cvresult['rmse-mean']))\n",
    "        print('Best Iteration:',len(cvresult['rmse-mean']))\n",
    "        \n",
    "    alg.fit(X,y,eval_metric='rmse',feature_name=feature_names,categorical_feature=cat_features,\n",
    "            eval_set=[(X,y),(X_test, y_test)],eval_names=['train','val'],verbose=20)\n",
    "    \n",
    "    #Predict training set:\n",
    "    dtrain_predictions=alg.predict(X)\n",
    "    \n",
    "    #pPredict test set:\n",
    "    dtest_predictions=alg.predict(X_test)\n",
    "    \n",
    "    #Print Mode report:\n",
    "    print('Model report on trian:')\n",
    "    print('Train RMSE:{0:.4f}'.format(np.sqrt(metrics.mean_squared_error(y,dtrain_predictions))))\n",
    "    print('Model report on test:')\n",
    "    print('Test RMSE:{0:.4f}'.format(np.sqrt(metrics.mean_squared_error(y_test,dtest_predictions))))\n",
    "    \n",
    "    feat_imp=pd.Series(alg.feature_importances_,index=X.columns).sort_values(ascending=True)\n",
    "    #plt.figure()\n",
    "    #feat_imp.plot(kind='barh',title='Feature Importances',color='green')\n",
    "    #plt.ylabel('Feature Importance Score')\n",
    "    lgb.plot_importance(alg,importance_type='gain')\n",
    "    lgb.plot_metric(lgbr)\n",
    "    return feat_imp\n",
    "\n",
    "def turnParams(model,X,y,cat_features,searchParam,modelparams,scoring='rmse',cv=5):\n",
    "    gsc=GridSearchCV(estimator=model.__class__(**modelparams),param_grid=searchParam,scoring=scoring,\n",
    "                    iid=False,cv=cv)\n",
    "    gsc.fit(X,y,eval_metric='rmse',categorical_feature=cat_features)\n",
    "    param_name=list(searchParam.keys())[0]\n",
    "    columns=[p[param_name] for p in gsc.cv_results_['params']]\n",
    "    cv_scores=pd.DataFrame([gsc.cv_results_['mean_test_score'],\n",
    "                            gsc.cv_results_['mean_train_score'],\n",
    "                            gsc.cv_results_['std_test_score'],\n",
    "                            gsc.cv_results_['std_train_score']],\n",
    "                            index=['mean_test_score','mean_train_score','std_test_score','std_train_score'],\n",
    "                            columns=columns).T\n",
    "    #cv_scores.index.name=param_name\n",
    "    for param in gsc.best_params_.keys():\n",
    "        modelparams[param]=gsc.best_params_[param]\n",
    "    print('Best params:')\n",
    "    for param in gsc.best_params_.keys():\n",
    "        print(param,':',gsc.best_params_[param])\n",
    "    print('Best score:',gsc.best_score_)\n",
    "    print(cv_scores)"
   ]
  },
  {
   "cell_type": "code",
   "execution_count": 46,
   "metadata": {
    "collapsed": true
   },
   "outputs": [],
   "source": [
    "params={'boosting_type': 'gbdt',\n",
    "        'colsample_bytree': 0.8,\n",
    "       'learning_rate': 0.1,\n",
    "       'max_bin': 168,\n",
    "       'max_depth': 9,\n",
    "       'min_child_samples': 30,\n",
    "       'min_child_weight': 5,\n",
    "       'min_split_gain': 1,\n",
    "       'n_estimators': 200,\n",
    "       'n_jobs': -1,\n",
    "       'num_leaves': 60,\n",
    "       'objective': 'regression',\n",
    "       'random_state': 9,\n",
    "       'reg_alpha': 0,\n",
    "       'reg_lambda': 0,\n",
    "       'subsample': 0.9,\n",
    "       'subsample_freq': 1\n",
    "       }\n",
    "\n",
    "cvparams={'boosting_type':'gbdt',\n",
    "        'num_leaves':60,\n",
    "        'max_depth':9,\n",
    "        'learning_rate':0.1,\n",
    "        'max_bin':168,\n",
    "        'objective':'regression',\n",
    "        'min_gain_to_split':1,\n",
    "        'min_sum_hessian_in_leaf':5,\n",
    "        'min_data_in_leaf':1,\n",
    "        'bagging_fraction':0.9,\n",
    "        'bagging_freq':1,\n",
    "        'feature_fraction':0.8,\n",
    "        'lambda_l1':0,\n",
    "        'lambda_l2':0,\n",
    "        'num_threads':-1,\n",
    "       }\n",
    "#在sklaearn接口中，参数名称发生了变化，需要进行映射\n",
    "tran_table={ 'min_split_gain':'min_gain_to_split',\n",
    "             'min_child_weight':'min_sum_hessian_in_leaf',\n",
    "             'min_child_samples':'min_data_in_leaf',\n",
    "             'subsample':'bagging_fraction',\n",
    "             'subsample_freq':'bagging_freq',\n",
    "             'colsample_bytree':'feature_fraction',\n",
    "             'reg_alpha':'lambda_l1',\n",
    "             'reg_lambda':'lambda_l2',\n",
    "             'n_jobs':'num_threads',\n",
    "            \n",
    "             'boosting_type':'boosting_type',\n",
    "             'num_leaves':'num_leaves',\n",
    "             'max_depth':'max_depth',\n",
    "             'learning_rate':'learning_rate',\n",
    "             'max_bin':'max_bin',\n",
    "             'objective':'objective'}\n",
    "def get_lgb_params(sklearn_params,cvparams,tran_table):\n",
    "    for sklearn_param,lgb_param in tran_table.items():\n",
    "        cvparams[lgb_param]=sklearn_params[sklearn_param]"
   ]
  },
  {
   "cell_type": "code",
   "execution_count": 47,
   "metadata": {
    "collapsed": true
   },
   "outputs": [],
   "source": [
    "lgbr=lgb.LGBMRegressor(**params)"
   ]
  },
  {
   "cell_type": "code",
   "execution_count": 48,
   "metadata": {},
   "outputs": [
    {
     "name": "stdout",
     "output_type": "stream",
     "text": [
      "[20]\tcv_agg's rmse: 0.23134 + 0.000208812\n",
      "[40]\tcv_agg's rmse: 0.229001 + 0.000283628\n",
      "[60]\tcv_agg's rmse: 0.228247 + 0.000268589\n",
      "[80]\tcv_agg's rmse: 0.228041 + 0.000241264\n",
      "[100]\tcv_agg's rmse: 0.228034 + 0.000237637\n",
      "[120]\tcv_agg's rmse: 0.228034 + 0.000237637\n",
      "Best Iteration: 91\n"
     ]
    },
    {
     "name": "stderr",
     "output_type": "stream",
     "text": [
      "C:\\Anaconda3\\lib\\site-packages\\lightgbm\\basic.py:1038: UserWarning: categorical_feature in Dataset is overrided. New categorical_feature is ['activation_hour', 'activation_weekday', 'category_name', 'city', 'param_1', 'param_2', 'param_3', 'parent_category_name', 'region', 'user_type']\n",
      "  warnings.warn('categorical_feature in Dataset is overrided. New categorical_feature is {}'.format(sorted(list(categorical_feature))))\n"
     ]
    },
    {
     "name": "stdout",
     "output_type": "stream",
     "text": [
      "[20]\ttrain's rmse: 0.230708\tval's rmse: 0.231729\n",
      "[40]\ttrain's rmse: 0.227292\tval's rmse: 0.229091\n",
      "[60]\ttrain's rmse: 0.225842\tval's rmse: 0.228202\n",
      "[80]\ttrain's rmse: 0.225213\tval's rmse: 0.22788\n",
      "Model report on trian:\n",
      "Train RMSE:0.2252\n",
      "Model report on test:\n",
      "Test RMSE:0.2279\n"
     ]
    },
    {
     "data": {
      "image/png": "[encoded data removed]",
      "text/plain": [
       "<matplotlib.figure.Figure at 0x182eed181d0>"
      ]
     },
     "metadata": {},
     "output_type": "display_data"
    },
    {
     "data": {
      "image/png": "[encoded data removed]",
      "text/plain": [
       "<matplotlib.figure.Figure at 0x1830e501438>"
      ]
     },
     "metadata": {},
     "output_type": "display_data"
    }
   ],
   "source": [
    "get_lgb_params(lgbr.get_params(),cvparams,tran_table)\n",
    "\n",
    "feat_imp=modelfit(lgbr,X_train,y_train,X_val,y_val,cat_vars,cvparams,useTrainCV=True,cv_folds=5,early_stopping_rounds=30)"
   ]
  },
  {
   "cell_type": "code",
   "execution_count": 49,
   "metadata": {
    "collapsed": true
   },
   "outputs": [],
   "source": [
    "params['n_estimators']=91"
   ]
  },
  {
   "cell_type": "markdown",
   "metadata": {},
   "source": [
    "# 2 Tune params"
   ]
  },
  {
   "cell_type": "code",
   "execution_count": 50,
   "metadata": {
    "collapsed": true
   },
   "outputs": [],
   "source": [
    "#不重要的警告信息不予显示\n",
    "import warnings\n",
    "warnings.filterwarnings(\"ignore\")"
   ]
  },
  {
   "cell_type": "code",
   "execution_count": 51,
   "metadata": {
    "collapsed": true
   },
   "outputs": [],
   "source": [
    "def rmse(y_true, y_pred, sample_weight=None, multioutput='uniform_average'):\n",
    "    return np.sqrt(metrics.mean_squared_error(y_true,y_pred))\n",
    "scorer = metrics.make_scorer(rmse, greater_is_better=False)"
   ]
  },
  {
   "cell_type": "markdown",
   "metadata": {},
   "source": [
    "## 2.1 num_leaves"
   ]
  },
  {
   "cell_type": "code",
   "execution_count": 52,
   "metadata": {},
   "outputs": [
    {
     "name": "stdout",
     "output_type": "stream",
     "text": [
      "Best params:\n",
      "num_leaves : 50\n",
      "Best score: -0.228091815583\n",
      "    mean_test_score  mean_train_score  std_test_score  std_train_score\n",
      "20        -0.228925         -0.227568        0.000823         0.000170\n",
      "25        -0.228616         -0.226926        0.000832         0.000146\n",
      "30        -0.228434         -0.226512        0.000789         0.000187\n",
      "35        -0.228342         -0.226275        0.000772         0.000204\n",
      "40        -0.228256         -0.226027        0.000800         0.000186\n",
      "50        -0.228092         -0.225486        0.000817         0.000161\n"
     ]
    }
   ],
   "source": [
    "searchParam={'num_leaves':(20,25,30,35,40,50)}\n",
    "turnParams(lgbr,X_train,y_train,cat_vars,searchParam,params,scoring=scorer,cv=5);"
   ]
  },
  {
   "cell_type": "code",
   "execution_count": 53,
   "metadata": {},
   "outputs": [
    {
     "name": "stdout",
     "output_type": "stream",
     "text": [
      "Best params:\n",
      "num_leaves : 60\n",
      "Best score: -0.227926272887\n",
      "    mean_test_score  mean_train_score  std_test_score  std_train_score\n",
      "45        -0.228149         -0.225709        0.000794         0.000195\n",
      "49        -0.228067         -0.225536        0.000761         0.000222\n",
      "50        -0.228092         -0.225486        0.000817         0.000161\n",
      "51        -0.228078         -0.225501        0.000779         0.000174\n",
      "55        -0.227986         -0.225300        0.000762         0.000196\n",
      "60        -0.227926         -0.225124        0.000779         0.000218\n"
     ]
    }
   ],
   "source": [
    "searchParam={'num_leaves':(45,49,50,51,55,60)}\n",
    "turnParams(lgbr,X_train,y_train,cat_vars,searchParam,params,scoring=scorer,cv=5);"
   ]
  },
  {
   "cell_type": "code",
   "execution_count": 54,
   "metadata": {},
   "outputs": [
    {
     "name": "stdout",
     "output_type": "stream",
     "text": [
      "Best params:\n",
      "num_leaves : 90\n",
      "Best score: -0.22776057427\n",
      "    mean_test_score  mean_train_score  std_test_score  std_train_score\n",
      "60        -0.227926         -0.225124        0.000779         0.000218\n",
      "70        -0.227820         -0.224832        0.000796         0.000212\n",
      "80        -0.227794         -0.224681        0.000786         0.000171\n",
      "90        -0.227761         -0.224519        0.000749         0.000229\n"
     ]
    }
   ],
   "source": [
    "searchParam={'num_leaves':(60,70,80,90)}\n",
    "turnParams(lgbr,X_train,y_train,cat_vars,searchParam,params,scoring=scorer,cv=5);"
   ]
  },
  {
   "cell_type": "code",
   "execution_count": 55,
   "metadata": {},
   "outputs": [
    {
     "name": "stdout",
     "output_type": "stream",
     "text": [
      "Best params:\n",
      "num_leaves : 100\n",
      "Best score: -0.227648810081\n",
      "     mean_test_score  mean_train_score  std_test_score  std_train_score\n",
      "85         -0.227770         -0.224588        0.000747         0.000198\n",
      "90         -0.227761         -0.224519        0.000749         0.000229\n",
      "100        -0.227649         -0.224323        0.000785         0.000187\n",
      "110        -0.227682         -0.224221        0.000780         0.000209\n"
     ]
    }
   ],
   "source": [
    "searchParam={'num_leaves':(85,90,100,110)}\n",
    "turnParams(lgbr,X_train,y_train,cat_vars,searchParam,params,scoring=scorer,cv=5);"
   ]
  },
  {
   "cell_type": "code",
   "execution_count": 56,
   "metadata": {},
   "outputs": [
    {
     "name": "stdout",
     "output_type": "stream",
     "text": [
      "Best params:\n",
      "num_leaves : 100\n",
      "Best score: -0.227648810081\n",
      "     mean_test_score  mean_train_score  std_test_score  std_train_score\n",
      "95         -0.227738         -0.224448        0.000764         0.000191\n",
      "100        -0.227649         -0.224323        0.000785         0.000187\n",
      "105        -0.227658         -0.224262        0.000751         0.000246\n"
     ]
    }
   ],
   "source": [
    "searchParam={'num_leaves':(95,100,105)}\n",
    "turnParams(lgbr,X_train,y_train,cat_vars,searchParam,params,scoring=scorer,cv=5);"
   ]
  },
  {
   "cell_type": "markdown",
   "metadata": {},
   "source": [
    "## 2.2 max_depth"
   ]
  },
  {
   "cell_type": "code",
   "execution_count": 57,
   "metadata": {},
   "outputs": [
    {
     "name": "stdout",
     "output_type": "stream",
     "text": [
      "Best params:\n",
      "max_depth : 20\n",
      "Best score: -0.227395507968\n",
      "    mean_test_score  mean_train_score  std_test_score  std_train_score\n",
      "2         -0.233572         -0.233397        0.000872         0.000207\n",
      "6         -0.228607         -0.226615        0.000772         0.000213\n",
      "10        -0.227634         -0.224135        0.000798         0.000220\n",
      "15        -0.227436         -0.223506        0.000789         0.000204\n",
      "20        -0.227396         -0.223415        0.000780         0.000213\n"
     ]
    }
   ],
   "source": [
    "searchParam={'max_depth':[2,6,10,15,20]}\n",
    "turnParams(lgbr,X_train,y_train,cat_vars,searchParam,params,scoring=scorer,cv=5);"
   ]
  },
  {
   "cell_type": "code",
   "execution_count": 58,
   "metadata": {},
   "outputs": [
    {
     "name": "stdout",
     "output_type": "stream",
     "text": [
      "Best params:\n",
      "max_depth : 25\n",
      "Best score: -0.227383361779\n",
      "    mean_test_score  mean_train_score  std_test_score  std_train_score\n",
      "19        -0.227449         -0.223422        0.000812         0.000189\n",
      "20        -0.227396         -0.223415        0.000780         0.000213\n",
      "21        -0.227395         -0.223410        0.000804         0.000138\n",
      "25        -0.227383         -0.223416        0.000790         0.000180\n"
     ]
    }
   ],
   "source": [
    "searchParam={'max_depth':[19,20,21,25]}\n",
    "turnParams(lgbr,X_train,y_train,cat_vars,searchParam,params,scoring=scorer,cv=5);"
   ]
  },
  {
   "cell_type": "code",
   "execution_count": 60,
   "metadata": {},
   "outputs": [
    {
     "name": "stdout",
     "output_type": "stream",
     "text": [
      "Best params:\n",
      "max_depth : 29\n",
      "Best score: -0.2273731211\n",
      "    mean_test_score  mean_train_score  std_test_score  std_train_score\n",
      "28        -0.227375         -0.223385        0.000801         0.000162\n",
      "29        -0.227373         -0.223395        0.000801         0.000143\n",
      "30        -0.227373         -0.223387        0.000801         0.000159\n",
      "31        -0.227373         -0.223387        0.000801         0.000159\n",
      "32        -0.227373         -0.223387        0.000801         0.000159\n"
     ]
    }
   ],
   "source": [
    "searchParam={'max_depth':[28,29,30,31,32]}\n",
    "turnParams(lgbr,X_train,y_train,cat_vars,searchParam,params,scoring=scorer,cv=5);"
   ]
  },
  {
   "cell_type": "markdown",
   "metadata": {},
   "source": [
    "## 2.3 subsample"
   ]
  },
  {
   "cell_type": "code",
   "execution_count": 61,
   "metadata": {},
   "outputs": [
    {
     "name": "stdout",
     "output_type": "stream",
     "text": [
      "Best params:\n",
      "subsample : 0.9\n",
      "Best score: -0.2273731211\n",
      "     mean_test_score  mean_train_score  std_test_score  std_train_score\n",
      "0.5        -0.227937         -0.224534        0.000831         0.000175\n",
      "0.7        -0.227560         -0.223717        0.000751         0.000205\n",
      "0.9        -0.227373         -0.223395        0.000801         0.000143\n",
      "1.0        -0.227421         -0.223421        0.000809         0.000157\n"
     ]
    }
   ],
   "source": [
    "searchParam={'subsample':[0.5,0.7,0.9,1.0]}\n",
    "turnParams(lgbr,X_train,y_train,cat_vars,searchParam,params,scoring=scorer,cv=5);"
   ]
  },
  {
   "cell_type": "code",
   "execution_count": 62,
   "metadata": {},
   "outputs": [
    {
     "name": "stdout",
     "output_type": "stream",
     "text": [
      "Best params:\n",
      "subsample : 0.9\n",
      "Best score: -0.2273731211\n",
      "      mean_test_score  mean_train_score  std_test_score  std_train_score\n",
      "0.88        -0.227398         -0.223381        0.000790         0.000159\n",
      "0.89        -0.227426         -0.223455        0.000802         0.000154\n",
      "0.90        -0.227373         -0.223395        0.000801         0.000143\n",
      "0.91        -0.227426         -0.223457        0.000726         0.000278\n",
      "0.92        -0.227401         -0.223402        0.000799         0.000217\n"
     ]
    }
   ],
   "source": [
    "searchParam={'subsample':[0.88,0.89,0.9,0.91,0.92]}\n",
    "turnParams(lgbr,X_train,y_train,cat_vars,searchParam,params,scoring=scorer,cv=5);"
   ]
  },
  {
   "cell_type": "markdown",
   "metadata": {},
   "source": [
    "## 2.4 subsample_freq"
   ]
  },
  {
   "cell_type": "code",
   "execution_count": 28,
   "metadata": {},
   "outputs": [
    {
     "name": "stdout",
     "output_type": "stream",
     "text": [
      "Best params:\n",
      "subsample_freq : 1\n",
      "Best score: -0.229257495593\n",
      "   mean_test_score  mean_train_score  std_test_score  std_train_score\n",
      "1        -0.229257         -0.226336        0.000786         0.000323\n",
      "2        -0.229425         -0.226583        0.000827         0.000241\n",
      "3        -0.229316         -0.226504        0.000841         0.000294\n",
      "4        -0.229406         -0.226717        0.000800         0.000331\n",
      "5        -0.229599         -0.226965        0.000864         0.000261\n",
      "6        -0.229510         -0.226922        0.000888         0.000080\n",
      "7        -0.229540         -0.226987        0.000884         0.000145\n",
      "8        -0.229432         -0.226944        0.000908         0.000349\n",
      "9        -0.229517         -0.226970        0.000827         0.000207\n"
     ]
    }
   ],
   "source": [
    "searchParam={'subsample_freq':[1,2,3,4,5,6,7,8,9]}\n",
    "turnParams(lgbr,X_train,y_train,cat_vars,searchParam,params,scoring=scorer,cv=5);"
   ]
  },
  {
   "cell_type": "markdown",
   "metadata": {},
   "source": [
    "## 2.5 colsample_bytree"
   ]
  },
  {
   "cell_type": "code",
   "execution_count": 63,
   "metadata": {},
   "outputs": [
    {
     "name": "stdout",
     "output_type": "stream",
     "text": [
      "Best params:\n",
      "colsample_bytree : 0.8\n",
      "Best score: -0.2273731211\n",
      "     mean_test_score  mean_train_score  std_test_score  std_train_score\n",
      "0.5        -0.227520         -0.224265        0.000805         0.000194\n",
      "0.7        -0.227460         -0.223886        0.000823         0.000146\n",
      "0.8        -0.227373         -0.223395        0.000801         0.000143\n",
      "0.9        -0.227514         -0.223336        0.000768         0.000220\n",
      "1.0        -0.227482         -0.223019        0.000774         0.000201\n"
     ]
    }
   ],
   "source": [
    "searchParam={'colsample_bytree':[0.5,0.7,0.8,0.9,1.0]}\n",
    "turnParams(lgbr,X_train,y_train,cat_vars,searchParam,params,scoring=scorer,cv=5);"
   ]
  },
  {
   "cell_type": "markdown",
   "metadata": {},
   "source": [
    "## 2.6 reg_alpha"
   ]
  },
  {
   "cell_type": "code",
   "execution_count": 64,
   "metadata": {},
   "outputs": [
    {
     "name": "stdout",
     "output_type": "stream",
     "text": [
      "Best params:\n",
      "reg_alpha : 0\n",
      "Best score: -0.2273731211\n",
      "          mean_test_score  mean_train_score  std_test_score  std_train_score\n",
      "0.00000         -0.227373         -0.223395        0.000801         0.000143\n",
      "0.00001         -0.227373         -0.223395        0.000801         0.000143\n",
      "0.00100         -0.227390         -0.223459        0.000806         0.000190\n",
      "0.10000         -0.227385         -0.223356        0.000760         0.000240\n",
      "0.50000         -0.227454         -0.223480        0.000778         0.000217\n",
      "1.00000         -0.227444         -0.223547        0.000820         0.000198\n",
      "3.00000         -0.227461         -0.223632        0.000764         0.000221\n",
      "5.00000         -0.227535         -0.223794        0.000746         0.000232\n",
      "10.00000        -0.227610         -0.224185        0.000770         0.000192\n"
     ]
    }
   ],
   "source": [
    "searchParam={'reg_alpha':[0,1e-5,1e-3,0.1,0.5,1,3,5,10]}\n",
    "turnParams(lgbr,X_train,y_train,cat_vars,searchParam,params,scoring=scorer,cv=5);"
   ]
  },
  {
   "cell_type": "markdown",
   "metadata": {},
   "source": [
    "## 2.7 reg_lambda"
   ]
  },
  {
   "cell_type": "code",
   "execution_count": 65,
   "metadata": {},
   "outputs": [
    {
     "name": "stdout",
     "output_type": "stream",
     "text": [
      "Best params:\n",
      "reg_lambda : 0\n",
      "Best score: -0.2273731211\n",
      "          mean_test_score  mean_train_score  std_test_score  std_train_score\n",
      "0.00000         -0.227373         -0.223395        0.000801         0.000143\n",
      "0.00001         -0.227373         -0.223395        0.000801         0.000143\n",
      "0.00100         -0.227383         -0.223417        0.000801         0.000149\n",
      "0.10000         -0.227408         -0.223365        0.000751         0.000238\n",
      "0.50000         -0.227431         -0.223433        0.000759         0.000205\n",
      "1.00000         -0.227435         -0.223432        0.000797         0.000174\n",
      "3.00000         -0.227458         -0.223500        0.000799         0.000148\n",
      "5.00000         -0.227430         -0.223459        0.000817         0.000111\n",
      "10.00000        -0.227451         -0.223465        0.000769         0.000157\n"
     ]
    }
   ],
   "source": [
    "searchParam={'reg_lambda':[0,1e-5,1e-3,0.1,0.5,1,3,5,10]}\n",
    "turnParams(lgbr,X_train,y_train,cat_vars,searchParam,params,scoring=scorer,cv=5);"
   ]
  },
  {
   "cell_type": "code",
   "execution_count": 66,
   "metadata": {},
   "outputs": [
    {
     "data": {
      "text/plain": [
       "{'boosting_type': 'gbdt',\n",
       " 'colsample_bytree': 0.8,\n",
       " 'learning_rate': 0.1,\n",
       " 'max_bin': 168,\n",
       " 'max_depth': 29,\n",
       " 'min_child_samples': 30,\n",
       " 'min_child_weight': 5,\n",
       " 'min_split_gain': 1,\n",
       " 'n_estimators': 91,\n",
       " 'n_jobs': -1,\n",
       " 'num_leaves': 100,\n",
       " 'objective': 'regression',\n",
       " 'random_state': 9,\n",
       " 'reg_alpha': 0,\n",
       " 'reg_lambda': 0,\n",
       " 'subsample': 0.9,\n",
       " 'subsample_freq': 1}"
      ]
     },
     "execution_count": 66,
     "metadata": {},
     "output_type": "execute_result"
    }
   ],
   "source": [
    "params"
   ]
  },
  {
   "cell_type": "markdown",
   "metadata": {},
   "source": [
    "## 2.8 min_child_samples"
   ]
  },
  {
   "cell_type": "code",
   "execution_count": 67,
   "metadata": {},
   "outputs": [
    {
     "name": "stdout",
     "output_type": "stream",
     "text": [
      "Best params:\n",
      "min_child_samples : 30\n",
      "Best score: -0.2273731211\n",
      "     mean_test_score  mean_train_score  std_test_score  std_train_score\n",
      "1          -0.227463         -0.223768        0.000739         0.000191\n",
      "2          -0.227463         -0.223768        0.000739         0.000191\n",
      "5          -0.227410         -0.223452        0.000802         0.000191\n",
      "10         -0.227402         -0.223451        0.000812         0.000191\n",
      "20         -0.227399         -0.223454        0.000809         0.000184\n",
      "30         -0.227373         -0.223395        0.000801         0.000143\n",
      "50         -0.227408         -0.223466        0.000786         0.000239\n",
      "100        -0.227420         -0.223444        0.000794         0.000176\n",
      "150        -0.227437         -0.223432        0.000775         0.000199\n",
      "200        -0.227450         -0.223436        0.000764         0.000196\n",
      "300        -0.227439         -0.223449        0.000752         0.000160\n",
      "400        -0.227454         -0.223477        0.000734         0.000232\n",
      "500        -0.227479         -0.223512        0.000781         0.000184\n"
     ]
    }
   ],
   "source": [
    "searchParam={'min_child_samples':[1,2,5,10,20,30,50,100,150,200,300,400,500]}\n",
    "turnParams(lgbr,X_train,y_train,cat_vars,searchParam,params,scoring=scorer,cv=5);"
   ]
  },
  {
   "cell_type": "code",
   "execution_count": null,
   "metadata": {
    "collapsed": true
   },
   "outputs": [],
   "source": []
  },
  {
   "cell_type": "code",
   "execution_count": 172,
   "metadata": {},
   "outputs": [
    {
     "name": "stdout",
     "output_type": "stream",
     "text": [
      "Best params:\n",
      "min_child_samples : 3\n",
      "Best score: 0.63428579984\n",
      "   mean_test_score  mean_train_score  std_test_score  std_train_score\n",
      "3         0.634286          0.676859        0.002134         0.001064\n",
      "4         0.634286          0.676859        0.002134         0.001064\n",
      "5         0.634286          0.676859        0.002134         0.001064\n",
      "6         0.634286          0.676859        0.002134         0.001064\n",
      "7         0.634286          0.676859        0.002134         0.001064\n"
     ]
    }
   ],
   "source": [
    "searchParam={'min_child_samples':[3,4,5,6,7]}\n",
    "turnParams(lgbr,X_train,y_train,cat_vars,searchParam,params,scoring=scorer,cv=5);"
   ]
  },
  {
   "cell_type": "markdown",
   "metadata": {},
   "source": [
    "## 2.9 min_child_weight"
   ]
  },
  {
   "cell_type": "code",
   "execution_count": 173,
   "metadata": {},
   "outputs": [
    {
     "name": "stdout",
     "output_type": "stream",
     "text": [
      "Best params:\n",
      "min_child_weight : 1e-05\n",
      "Best score: 0.63428579984\n",
      "         mean_test_score  mean_train_score  std_test_score  std_train_score\n",
      "0.00001         0.634286          0.676859        0.002134         0.001064\n",
      "0.00100         0.634286          0.676859        0.002134         0.001064\n",
      "0.10000         0.634286          0.676859        0.002134         0.001064\n",
      "0.50000         0.634286          0.676859        0.002134         0.001064\n",
      "1.00000         0.634286          0.676859        0.002134         0.001064\n",
      "3.00000         0.634286          0.676859        0.002134         0.001064\n",
      "5.00000         0.634286          0.676859        0.002134         0.001064\n"
     ]
    }
   ],
   "source": [
    "searchParam={'min_child_weight':[1e-5,1e-3,0.1,0.5,1.0,3.0,5.0]}\n",
    "turnParams(lgbc,X,y,cat_features,searchParam,params,scoring='roc_auc',cv=5);"
   ]
  },
  {
   "cell_type": "markdown",
   "metadata": {},
   "source": [
    "## 2.10 max_bin"
   ]
  },
  {
   "cell_type": "code",
   "execution_count": 174,
   "metadata": {},
   "outputs": [
    {
     "name": "stdout",
     "output_type": "stream",
     "text": [
      "Best params:\n",
      "max_bin : 255\n",
      "Best score: 0.63428579984\n",
      "     mean_test_score  mean_train_score  std_test_score  std_train_score\n",
      "31          0.632909          0.675524        0.002234         0.001220\n",
      "63          0.633120          0.675998        0.001408         0.000908\n",
      "127         0.633413          0.676443        0.002107         0.001359\n",
      "255         0.634286          0.676859        0.002134         0.001064\n",
      "511         0.632746          0.676565        0.001914         0.001183\n"
     ]
    }
   ],
   "source": [
    "searchParam={'max_bin':[31,63,127,255,511]}\n",
    "turnParams(lgbc,X,y,cat_features,searchParam,params,scoring='roc_auc',cv=5);"
   ]
  },
  {
   "cell_type": "markdown",
   "metadata": {},
   "source": [
    "## 2.11 min_split_gain"
   ]
  },
  {
   "cell_type": "code",
   "execution_count": 183,
   "metadata": {},
   "outputs": [
    {
     "name": "stdout",
     "output_type": "stream",
     "text": [
      "Best params:\n",
      "min_split_gain : 1\n",
      "Best score: 0.63428579984\n",
      "     mean_test_score  mean_train_score  std_test_score  std_train_score\n",
      "0.5         0.634007          0.676327        0.002064         0.000875\n",
      "0.9         0.634016          0.676880        0.002242         0.001080\n",
      "1.0         0.634286          0.676859        0.002134         0.001064\n",
      "1.1         0.633735          0.676845        0.002634         0.001043\n",
      "2.0         0.634004          0.676904        0.001815         0.001361\n",
      "3.0         0.633310          0.676621        0.001720         0.001495\n"
     ]
    }
   ],
   "source": [
    "searchParam={'min_split_gain':[0.5,0.9,1,1.1,2,3]}\n",
    "turnParams(lgbc,X,y,cat_features,searchParam,params,scoring='roc_auc',cv=5);"
   ]
  },
  {
   "cell_type": "markdown",
   "metadata": {},
   "source": [
    "## 2.12 lower learning_rate"
   ]
  },
  {
   "cell_type": "code",
   "execution_count": 68,
   "metadata": {},
   "outputs": [
    {
     "name": "stdout",
     "output_type": "stream",
     "text": [
      "[20]\tcv_agg's rmse: 0.235345 + 0.000204966\n",
      "[40]\tcv_agg's rmse: 0.230121 + 0.000225825\n",
      "[60]\tcv_agg's rmse: 0.228531 + 0.00026614\n",
      "[80]\tcv_agg's rmse: 0.227803 + 0.000287695\n",
      "[100]\tcv_agg's rmse: 0.227426 + 0.000285643\n",
      "[120]\tcv_agg's rmse: 0.227291 + 0.000287548\n",
      "[140]\tcv_agg's rmse: 0.227277 + 0.000281527\n",
      "[160]\tcv_agg's rmse: 0.227277 + 0.000281527\n",
      "Best Iteration: 135\n",
      "[20]\ttrain's rmse: 0.234909\tval's rmse: 0.235896\n",
      "[40]\ttrain's rmse: 0.228899\tval's rmse: 0.230482\n",
      "[60]\ttrain's rmse: 0.226531\tval's rmse: 0.228688\n",
      "[80]\ttrain's rmse: 0.225101\tval's rmse: 0.227826\n",
      "[100]\ttrain's rmse: 0.224103\tval's rmse: 0.227382\n",
      "[120]\ttrain's rmse: 0.223621\tval's rmse: 0.227203\n",
      "Model report on trian:\n",
      "Train RMSE:0.2235\n",
      "Model report on test:\n",
      "Test RMSE:0.2272\n"
     ]
    },
    {
     "data": {
      "image/png": "[encoded data removed]",
      "text/plain": [
       "<matplotlib.figure.Figure at 0x182b31ed518>"
      ]
     },
     "metadata": {},
     "output_type": "display_data"
    },
    {
     "data": {
      "image/png": "[encoded data removed]",
      "text/plain": [
       "<matplotlib.figure.Figure at 0x182b350a470>"
      ]
     },
     "metadata": {},
     "output_type": "display_data"
    }
   ],
   "source": [
    "params['learning_rate']=0.05\n",
    "lgbr=lgb.LGBMRegressor(**params)\n",
    "get_lgb_params(params,cvparams,tran_table)\n",
    "feat_imp=modelfit(lgbr,X_train,y_train,X_val,y_val,cat_vars,cvparams,useTrainCV=True,cv_folds=5,early_stopping_rounds=30)"
   ]
  },
  {
   "cell_type": "code",
   "execution_count": 31,
   "metadata": {},
   "outputs": [
    {
     "name": "stdout",
     "output_type": "stream",
     "text": [
      "[20]\tcv_agg's rmse: 0.236703 + 0.00139293\n",
      "[40]\tcv_agg's rmse: 0.231819 + 0.00130524\n",
      "[60]\tcv_agg's rmse: 0.230283 + 0.00127033\n",
      "[80]\tcv_agg's rmse: 0.229483 + 0.00124622\n",
      "[100]\tcv_agg's rmse: 0.22899 + 0.00123823\n",
      "[120]\tcv_agg's rmse: 0.228651 + 0.00123133\n",
      "[140]\tcv_agg's rmse: 0.228391 + 0.00124692\n",
      "[160]\tcv_agg's rmse: 0.228186 + 0.00126727\n",
      "[180]\tcv_agg's rmse: 0.228085 + 0.00125273\n",
      "[200]\tcv_agg's rmse: 0.228063 + 0.0012526\n",
      "[220]\tcv_agg's rmse: 0.228063 + 0.0012526\n",
      "Best Iteration: 200\n",
      "Model report on trian:\n",
      "Train RMSE:0.2240\n",
      "Model report on test:\n",
      "Test RMSE:0.2277\n"
     ]
    },
    {
     "data": {
      "image/png": "[encoded data removed]",
      "text/plain": [
       "<matplotlib.figure.Figure at 0x7f1228717e10>"
      ]
     },
     "metadata": {},
     "output_type": "display_data"
    }
   ],
   "source": [
    "params['learning_rate']=0.05\n",
    "lgbr=lgb.LGBMRegressor(**params)\n",
    "get_lgb_params(params,cvparams,tran_table)\n",
    "feat_imp=modelfit(lgbr,X_train,y_train,X_val,y_val,cat_vars,cvparams,useTrainCV=True,cv_folds=5,early_stopping_rounds=30)"
   ]
  },
  {
   "cell_type": "code",
   "execution_count": 69,
   "metadata": {
    "collapsed": true
   },
   "outputs": [],
   "source": [
    "params['n_estimators']=135"
   ]
  },
  {
   "cell_type": "markdown",
   "metadata": {},
   "source": [
    "# 3 Final model"
   ]
  },
  {
   "cell_type": "code",
   "execution_count": 70,
   "metadata": {},
   "outputs": [
    {
     "data": {
      "text/plain": [
       "{'boosting_type': 'gbdt',\n",
       " 'colsample_bytree': 0.8,\n",
       " 'learning_rate': 0.05,\n",
       " 'max_bin': 168,\n",
       " 'max_depth': 29,\n",
       " 'min_child_samples': 30,\n",
       " 'min_child_weight': 5,\n",
       " 'min_split_gain': 1,\n",
       " 'n_estimators': 135,\n",
       " 'n_jobs': -1,\n",
       " 'num_leaves': 100,\n",
       " 'objective': 'regression',\n",
       " 'random_state': 9,\n",
       " 'reg_alpha': 0,\n",
       " 'reg_lambda': 0,\n",
       " 'subsample': 0.9,\n",
       " 'subsample_freq': 1}"
      ]
     },
     "execution_count": 70,
     "metadata": {},
     "output_type": "execute_result"
    }
   ],
   "source": [
    "params"
   ]
  },
  {
   "cell_type": "code",
   "execution_count": 71,
   "metadata": {
    "collapsed": true
   },
   "outputs": [],
   "source": [
    "lgbr_opt=lgb.LGBMRegressor(**params)"
   ]
  },
  {
   "cell_type": "code",
   "execution_count": 72,
   "metadata": {},
   "outputs": [
    {
     "data": {
      "text/plain": [
       "LGBMRegressor(boosting_type='gbdt', class_weight=None, colsample_bytree=0.8,\n",
       "       learning_rate=0.05, max_bin=168, max_depth=29, min_child_samples=30,\n",
       "       min_child_weight=5, min_split_gain=1, n_estimators=135, n_jobs=-1,\n",
       "       num_leaves=100, objective='regression', random_state=9, reg_alpha=0,\n",
       "       reg_lambda=0, silent=True, subsample=0.9, subsample_for_bin=200000,\n",
       "       subsample_freq=1)"
      ]
     },
     "execution_count": 72,
     "metadata": {},
     "output_type": "execute_result"
    }
   ],
   "source": [
    "lgbr_opt.fit(train_X,train_y,feature_name=list(train_X.columns),categorical_feature=cat_vars)"
   ]
  },
  {
   "cell_type": "code",
   "execution_count": 73,
   "metadata": {
    "collapsed": true
   },
   "outputs": [],
   "source": [
    "pred_test=lgbr_opt.predict(test_X)"
   ]
  },
  {
   "cell_type": "code",
   "execution_count": 75,
   "metadata": {
    "collapsed": true
   },
   "outputs": [],
   "source": [
    "pred_test[pred_test > 1] = 1\n",
    "pred_test[pred_test < 0] = 0\n",
    "sub_df = pd.DataFrame({\"item_id\": test_id})\n",
    "sub_df[\"deal_probability\"] = pred_test\n",
    "sub_df.to_csv(data_dirs['pred_result'], index=False)"
   ]
  },
  {
   "cell_type": "code",
   "execution_count": 78,
   "metadata": {},
   "outputs": [
    {
     "data": {
      "text/html": [
       "<div>\n",
       "<style>\n",
       "    .dataframe thead tr:only-child th {\n",
       "        text-align: right;\n",
       "    }\n",
       "\n",
       "    .dataframe thead th {\n",
       "        text-align: left;\n",
       "    }\n",
       "\n",
       "    .dataframe tbody tr th {\n",
       "        vertical-align: top;\n",
       "    }\n",
       "</style>\n",
       "<table border=\"1\" class=\"dataframe\">\n",
       "  <thead>\n",
       "    <tr style=\"text-align: right;\">\n",
       "      <th></th>\n",
       "      <th>item_id</th>\n",
       "      <th>deal_probability</th>\n",
       "    </tr>\n",
       "  </thead>\n",
       "  <tbody>\n",
       "    <tr>\n",
       "      <th>0</th>\n",
       "      <td>6544e41a8817</td>\n",
       "      <td>0.076582</td>\n",
       "    </tr>\n",
       "    <tr>\n",
       "      <th>1</th>\n",
       "      <td>65b9484d670f</td>\n",
       "      <td>0.222244</td>\n",
       "    </tr>\n",
       "    <tr>\n",
       "      <th>2</th>\n",
       "      <td>8bab230b2ecd</td>\n",
       "      <td>0.197155</td>\n",
       "    </tr>\n",
       "    <tr>\n",
       "      <th>3</th>\n",
       "      <td>8e348601fefc</td>\n",
       "      <td>0.070294</td>\n",
       "    </tr>\n",
       "    <tr>\n",
       "      <th>4</th>\n",
       "      <td>8bd2fe400b89</td>\n",
       "      <td>0.252548</td>\n",
       "    </tr>\n",
       "  </tbody>\n",
       "</table>\n",
       "</div>"
      ],
      "text/plain": [
       "        item_id  deal_probability\n",
       "0  6544e41a8817          0.076582\n",
       "1  65b9484d670f          0.222244\n",
       "2  8bab230b2ecd          0.197155\n",
       "3  8e348601fefc          0.070294\n",
       "4  8bd2fe400b89          0.252548"
      ]
     },
     "execution_count": 78,
     "metadata": {},
     "output_type": "execute_result"
    }
   ],
   "source": [
    "sub_df.head()"
   ]
  },
  {
   "cell_type": "code",
   "execution_count": null,
   "metadata": {
    "collapsed": true
   },
   "outputs": [],
   "source": []
  }
 ],
 "metadata": {
  "kernelspec": {
   "display_name": "Python 3",
   "language": "python",
   "name": "python3"
  },
  "language_info": {
   "codemirror_mode": {
    "name": "ipython",
    "version": 3
   },
   "file_extension": ".py",
   "mimetype": "text/x-python",
   "name": "python",
   "nbconvert_exporter": "python",
   "pygments_lexer": "ipython3",
   "version": "3.6.2"
  }
 },
 "nbformat": 4,
 "nbformat_minor": 2
}
