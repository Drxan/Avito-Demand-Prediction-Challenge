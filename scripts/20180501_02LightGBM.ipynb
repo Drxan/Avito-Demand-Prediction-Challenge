{
 "cells": [
  {
   "cell_type": "code",
   "execution_count": null,
   "metadata": {},
   "outputs": [
    {
     "name": "stderr",
     "output_type": "stream",
     "text": [
      "/usr/anaconda3/lib/python3.6/site-packages/sklearn/cross_validation.py:41: DeprecationWarning: This module was deprecated in version 0.18 in favor of the model_selection module into which all the refactored classes and functions are moved. Also note that the interface of the new CV iterators are different from that of this module. This module will be removed in 0.20.\n",
      "  \"This module will be removed in 0.20.\", DeprecationWarning)\n"
     ]
    }
   ],
   "source": [
    "import itertools\n",
    "import pandas as pd\n",
    "import numpy as np\n",
    "import matplotlib.pyplot as plt\n",
    "import seaborn as sns\n",
    "from sklearn.model_selection import train_test_split,GridSearchCV\n",
    "from xgboost.sklearn import XGBClassifier\n",
    "import xgboost as xgb\n",
    "from sklearn import metrics\n",
    "import lightgbm as lgb\n",
    "from copy import deepcopy\n",
    "import graphviz\n",
    "import os\n",
    "from sklearn import preprocessing\n",
    "%matplotlib inline\n",
    "plt.rcParams['figure.figsize']=12,4"
   ]
  },
  {
   "cell_type": "code",
   "execution_count": 2,
   "metadata": {},
   "outputs": [],
   "source": [
    "current_dir = r'/home/yw/study/Competition/Avito-Demand-Prediction-Challenge'\n",
    "data_dirs = dict()\n",
    "data_dirs['train_data'] = os.path.join(current_dir, 'data/train.csv')\n",
    "data_dirs['test_data'] = os.path.join(current_dir, 'data/test.csv')\n",
    "data_dirs['pred_result'] = os.path.join(current_dir, 'data/lightGBM_04_01.csv')\n",
    "data_dirs['model_path'] = os.path.join(current_dir, 'data/model_data/lightGBM_04.pkl')"
   ]
  },
  {
   "cell_type": "code",
   "execution_count": 7,
   "metadata": {
    "collapsed": true
   },
   "outputs": [],
   "source": [
    "def prepare_data(data_dirs):\n",
    "    train_df = pd.read_csv(data_dirs['train_data'], parse_dates=[\"activation_date\"])\n",
    "    test_df = pd.read_csv(data_dirs['test_data'], parse_dates=[\"activation_date\"])\n",
    "    \n",
    "    use_features = set()\n",
    "\n",
    "    train_y = train_df[\"deal_probability\"].values\n",
    "    test_id = test_df[\"item_id\"].values\n",
    "    # explore features\n",
    "    # weekday\n",
    "    train_df[\"activation_weekday\"] = train_df[\"activation_date\"].dt.weekday\n",
    "    test_df[\"activation_weekday\"] = test_df[\"activation_date\"].dt.weekday\n",
    "    # hour\n",
    "    train_df['activation_hour'] = train_df[\"activation_date\"].dt.hour\n",
    "    test_df['activation_hour'] = test_df[\"activation_date\"].dt.hour\n",
    "    \n",
    "    use_features.update(['activation_weekday','activation_hour'])\n",
    "    \n",
    "    # Label encode the categorical variables #\n",
    "    cat_vars = [\"region\", \"city\", \"parent_category_name\", \"category_name\", \"user_type\", \"param_1\", \"param_2\", \"param_3\"]\n",
    "    for col in cat_vars:\n",
    "        lbl = preprocessing.LabelEncoder()\n",
    "        lbl.fit(list(train_df[col].values.astype('str')) + list(test_df[col].values.astype('str')))\n",
    "        train_df[col] = lbl.transform(list(train_df[col].values.astype('str')))\n",
    "        test_df[col] = lbl.transform(list(test_df[col].values.astype('str')))\n",
    "    \n",
    "    use_features.update(cat_vars)\n",
    "    \n",
    "    # title length\n",
    "    train_df['title_len'] = train_df['title'].apply(len)\n",
    "    test_df['title_len'] = test_df['title'].apply(len)\n",
    "    # description length\n",
    "    train_df['descrip_len'] = train_df['description'].apply(lambda x: 0 if x is np.nan else len(x))\n",
    "    test_df['descrip_len'] = test_df['description'].apply(lambda x: 0 if x is np.nan else len(x))\n",
    "    \n",
    "    use_features.update(['title_len', 'descrip_len'])\n",
    "    use_features.update(['price', 'item_seq_number', 'image_top_1'])\n",
    "    use_features=list(use_features)\n",
    "    train_X = train_df[use_features]\n",
    "    test_X = test_df[use_features]\n",
    "    return train_X, train_y, test_X, test_id, cat_vars+['activation_weekday','activation_hour']"
   ]
  },
  {
   "cell_type": "code",
   "execution_count": 8,
   "metadata": {},
   "outputs": [],
   "source": [
    "train_X, train_y, test_X, test_id, cat_vars= prepare_data(data_dirs)"
   ]
  },
  {
   "cell_type": "code",
   "execution_count": 9,
   "metadata": {},
   "outputs": [],
   "source": [
    "X_train,X_val,y_train,y_val=train_test_split(train_X,train_y,test_size=0.20,random_state=9)"
   ]
  },
  {
   "cell_type": "markdown",
   "metadata": {},
   "source": [
    "# 1 Base line"
   ]
  },
  {
   "cell_type": "code",
   "execution_count": 11,
   "metadata": {
    "collapsed": true
   },
   "outputs": [],
   "source": [
    "def modelfit(alg,X,y,X_test,y_test,cat_features,cvparams,folds=None,useTrainCV=True,cv_folds=5,early_stopping_rounds=30):\n",
    "    feature_names=list(X.columns)\n",
    "    if useTrainCV==True:\n",
    "        dtrain=lgb.Dataset(X, label=y, max_bin=255, reference=None, \n",
    "                           weight=None, group=None, silent=False, feature_name=feature_names,\n",
    "                            categorical_feature=cat_features,params=None, free_raw_data=True)\n",
    "        cvresult=lgb.cv(cvparams,dtrain,num_boost_round=50000,folds=folds,nfold=cv_folds,stratified=True,\n",
    "                        metrics='rmse',feature_name=feature_names,categorical_feature=cat_features,early_stopping_rounds=early_stopping_rounds,\n",
    "                        verbose_eval=20,show_stdv =True,seed=9)\n",
    "        #,feval=gini_normalized\n",
    "        alg.set_params(n_estimators=len(cvresult['rmse-mean']))\n",
    "        print('Best Iteration:',len(cvresult['rmse-mean']))\n",
    "        \n",
    "    alg.fit(X,y,eval_metric='rmse',feature_name=feature_names,categorical_feature=cat_features)\n",
    "    \n",
    "    #Predict training set:\n",
    "    dtrain_predictions=alg.predict(X)\n",
    "    \n",
    "    #pPredict test set:\n",
    "    dtest_predictions=alg.predict(X_test)\n",
    "    \n",
    "    #Print Mode report:\n",
    "    print('Model report on trian:')\n",
    "    print('Train RMSE:{0:.4f}'.format(np.sqrt(metrics.mean_squared_error(y,dtrain_predictions))))\n",
    "    print('Model report on test:')\n",
    "    print('Test RMSE:{0:.4f}'.format(np.sqrt(metrics.mean_squared_error(y_test,dtest_predictions))))\n",
    "    \n",
    "    feat_imp=pd.Series(alg.feature_importances_,index=X.columns).sort_values(ascending=True)\n",
    "    #plt.figure()\n",
    "    #feat_imp.plot(kind='barh',title='Feature Importances',color='green')\n",
    "    #plt.ylabel('Feature Importance Score')\n",
    "    lgb.plot_importance(alg,importance_type='gain')\n",
    "    return feat_imp\n",
    "\n",
    "def turnParams(model,X,y,cat_features,searchParam,modelparams,scoring='rmse',cv=5):\n",
    "    gsc=GridSearchCV(estimator=model.__class__(**modelparams),param_grid=searchParam,scoring=scoring,\n",
    "                    iid=False,cv=cv)\n",
    "    gsc.fit(X,y,eval_metric='rmse',categorical_feature=cat_features)\n",
    "    param_name=list(searchParam.keys())[0]\n",
    "    columns=[p[param_name] for p in gsc.cv_results_['params']]\n",
    "    cv_scores=pd.DataFrame([gsc.cv_results_['mean_test_score'],\n",
    "                            gsc.cv_results_['mean_train_score'],\n",
    "                            gsc.cv_results_['std_test_score'],\n",
    "                            gsc.cv_results_['std_train_score']],\n",
    "                            index=['mean_test_score','mean_train_score','std_test_score','std_train_score'],\n",
    "                            columns=columns).T\n",
    "    #cv_scores.index.name=param_name\n",
    "    for param in gsc.best_params_.keys():\n",
    "        modelparams[param]=gsc.best_params_[param]\n",
    "    print('Best params:')\n",
    "    for param in gsc.best_params_.keys():\n",
    "        print(param,':',gsc.best_params_[param])\n",
    "    print('Best score:',gsc.best_score_)\n",
    "    print(cv_scores)"
   ]
  },
  {
   "cell_type": "code",
   "execution_count": null,
   "metadata": {
    "collapsed": true
   },
   "outputs": [],
   "source": [
    "params={'boosting_type':'gbdt',\n",
    "        'num_leaves':60,\n",
    "        'max_depth':8,\n",
    "        'learning_rate':0.3,\n",
    "        'n_estimators':1000,\n",
    "        'max_bin':255,\n",
    "        'objective':'regression',\n",
    "        'min_split_gain':1,\n",
    "        'min_child_weight':5,\n",
    "        'min_child_samples':1,\n",
    "        'subsample':0.8,\n",
    "        'subsample_freq':1,\n",
    "        'colsample_bytree':0.8,\n",
    "        'reg_alpha':0,\n",
    "        'reg_lambda':0,\n",
    "        'random_state':9,\n",
    "        'n_jobs':-1,\n",
    "        'is_unbalance':True,\n",
    "       }\n",
    "\n",
    "cvparams={'boosting_type':'gbdt',\n",
    "        'num_leaves':60,\n",
    "        'max_depth':8,\n",
    "        'learning_rate':0.3,\n",
    "        'max_bin':255,\n",
    "        'objective':'regression',\n",
    "        'min_gain_to_split':1,\n",
    "        'min_sum_hessian_in_leaf':5,\n",
    "        'min_data_in_leaf':1,\n",
    "        'bagging_fraction':0.8,\n",
    "        'bagging_freq':1,\n",
    "        'feature_fraction':0.8,\n",
    "        'lambda_l1':0,\n",
    "        'lambda_l2':0,\n",
    "        'num_threads':-1,\n",
    "       }\n",
    "#在sklaearn接口中，参数名称发生了变化，需要进行映射\n",
    "tran_table={ 'min_split_gain':'min_gain_to_split',\n",
    "             'min_child_weight':'min_sum_hessian_in_leaf',\n",
    "             'min_child_samples':'min_data_in_leaf',\n",
    "             'subsample':'bagging_fraction',\n",
    "             'subsample_freq':'bagging_freq',\n",
    "             'colsample_bytree':'feature_fraction',\n",
    "             'reg_alpha':'lambda_l1',\n",
    "             'reg_lambda':'lambda_l2',\n",
    "             'n_jobs':'num_threads',\n",
    "            \n",
    "             'boosting_type':'boosting_type',\n",
    "             'num_leaves':'num_leaves',\n",
    "             'max_depth':'max_depth',\n",
    "             'learning_rate':'learning_rate',\n",
    "             'max_bin':'max_bin',\n",
    "             'objective':'objective',\n",
    "             'is_unbalance':'is_unbalance'}\n",
    "def get_lgb_params(sklearn_params,cvparams,tran_table):\n",
    "    for sklearn_param,lgb_param in tran_table.items():\n",
    "        cvparams[lgb_param]=sklearn_params[sklearn_param]"
   ]
  },
  {
   "cell_type": "code",
   "execution_count": 14,
   "metadata": {
    "collapsed": true
   },
   "outputs": [],
   "source": [
    "lgbr=lgb.LGBMRegressor(**params)"
   ]
  },
  {
   "cell_type": "code",
   "execution_count": 15,
   "metadata": {},
   "outputs": [
    {
     "name": "stderr",
     "output_type": "stream",
     "text": [
      "/usr/anaconda3/lib/python3.6/site-packages/sklearn/model_selection/_split.py:597: Warning: The least populated class in y has only 1 members, which is too few. The minimum number of members in any class cannot be less than n_splits=5.\n",
      "  % (min_groups, self.n_splits)), Warning)\n"
     ]
    },
    {
     "name": "stdout",
     "output_type": "stream",
     "text": [
      "[20]\tcv_agg's rmse: 0.229311 + 0.00125648\n",
      "[40]\tcv_agg's rmse: 0.228667 + 0.00126568\n",
      "[60]\tcv_agg's rmse: 0.228637 + 0.00128104\n",
      "[80]\tcv_agg's rmse: 0.228667 + 0.00128271\n",
      "Best Iteration: 62\n"
     ]
    },
    {
     "name": "stderr",
     "output_type": "stream",
     "text": [
      "/usr/anaconda3/lib/python3.6/site-packages/lightgbm/basic.py:1004: UserWarning: categorical_feature in Dataset is overrided. New categorical_feature is ['activation_hour', 'activation_weekday', 'category_name', 'city', 'param_1', 'param_2', 'param_3', 'parent_category_name', 'region', 'user_type']\n",
      "  warnings.warn('categorical_feature in Dataset is overrided. New categorical_feature is {}'.format(sorted(list(categorical_feature))))\n"
     ]
    },
    {
     "name": "stdout",
     "output_type": "stream",
     "text": [
      "Model report on trian:\n",
      "Train RMSE:0.2239\n",
      "Model report on test:\n",
      "Test RMSE:0.2285\n"
     ]
    },
    {
     "data": {
      "image/png": "[encoded data removed]",
      "text/plain": [
       "<matplotlib.figure.Figure at 0x7f12057721d0>"
      ]
     },
     "metadata": {},
     "output_type": "display_data"
    }
   ],
   "source": [
    "get_lgb_params(lgbr.get_params(),cvparams,tran_table)\n",
    "\n",
    "feat_imp=modelfit(lgbr,X_train,y_train,X_val,y_val,cat_vars,cvparams,useTrainCV=True,cv_folds=5,early_stopping_rounds=30)"
   ]
  },
  {
   "cell_type": "code",
   "execution_count": 16,
   "metadata": {
    "collapsed": true
   },
   "outputs": [],
   "source": [
    "params['n_estimators']=62"
   ]
  },
  {
   "cell_type": "markdown",
   "metadata": {},
   "source": [
    "# 2 Tune params"
   ]
  },
  {
   "cell_type": "code",
   "execution_count": 17,
   "metadata": {
    "collapsed": true
   },
   "outputs": [],
   "source": [
    "#不重要的警告信息不予显示\n",
    "import warnings\n",
    "warnings.filterwarnings(\"ignore\")"
   ]
  },
  {
   "cell_type": "code",
   "execution_count": 18,
   "metadata": {
    "collapsed": true
   },
   "outputs": [],
   "source": [
    "def rmse(y_true, y_pred, sample_weight=None, multioutput='uniform_average'):\n",
    "    return np.sqrt(metrics.mean_squared_error(y_true,y_pred))\n",
    "scorer = metrics.make_scorer(rmse, greater_is_better=False)"
   ]
  },
  {
   "cell_type": "markdown",
   "metadata": {},
   "source": [
    "## 2.1 max_depth"
   ]
  },
  {
   "cell_type": "code",
   "execution_count": 21,
   "metadata": {},
   "outputs": [
    {
     "name": "stdout",
     "output_type": "stream",
     "text": [
      "Best params:\n",
      "max_depth : 9\n",
      "Best score: -0.228641824711\n",
      "    mean_test_score  mean_train_score  std_test_score  std_train_score\n",
      "2         -0.231681         -0.230973        0.000858         0.000194\n",
      "3         -0.230075         -0.228346        0.000770         0.000257\n",
      "4         -0.229407         -0.226163        0.000800         0.000208\n",
      "5         -0.229026         -0.224443        0.000827         0.000180\n",
      "6         -0.228893         -0.223752        0.000765         0.000262\n",
      "7         -0.228786         -0.223583        0.000788         0.000141\n",
      "8         -0.228649         -0.223378        0.000821         0.000285\n",
      "9         -0.228642         -0.223280        0.000857         0.000186\n",
      "10        -0.228651         -0.223332        0.000816         0.000237\n"
     ]
    }
   ],
   "source": [
    "searchParam={'max_depth':[2,3,4,5,6,7,8,9,10]}\n",
    "turnParams(lgbr,X_train,y_train,cat_vars,searchParam,params,scoring=scorer,cv=5);"
   ]
  },
  {
   "cell_type": "markdown",
   "metadata": {},
   "source": [
    "## 2.2 num_leaves"
   ]
  },
  {
   "cell_type": "code",
   "execution_count": 23,
   "metadata": {},
   "outputs": [
    {
     "name": "stdout",
     "output_type": "stream",
     "text": [
      "Best params:\n",
      "num_leaves : 35\n",
      "Best score: -0.228568149098\n",
      "    mean_test_score  mean_train_score  std_test_score  std_train_score\n",
      "20        -0.228763         -0.224536        0.000874         0.000195\n",
      "25        -0.228653         -0.223832        0.000796         0.000261\n",
      "30        -0.228642         -0.223280        0.000857         0.000186\n",
      "35        -0.228568         -0.222993        0.000804         0.000281\n",
      "40        -0.228633         -0.222632        0.000809         0.000199\n",
      "50        -0.228600         -0.222324        0.000788         0.000226\n"
     ]
    }
   ],
   "source": [
    "searchParam={'num_leaves':(20,25,30,35,40,50)}\n",
    "turnParams(lgbr,X_train,y_train,cat_vars,searchParam,params,scoring=scorer,cv=5);"
   ]
  },
  {
   "cell_type": "markdown",
   "metadata": {},
   "source": [
    "## 2.3 subsample"
   ]
  },
  {
   "cell_type": "code",
   "execution_count": 23,
   "metadata": {},
   "outputs": [
    {
     "name": "stdout",
     "output_type": "stream",
     "text": [
      "Best params:\n",
      "subsample : 0.9\n",
      "Best score: -0.229278048902\n",
      "     mean_test_score  mean_train_score  std_test_score  std_train_score\n",
      "0.1        -0.233881         -0.231130        0.000716         0.000321\n",
      "0.3        -0.230967         -0.227892        0.000896         0.000230\n",
      "0.5        -0.230218         -0.227104        0.000758         0.000204\n",
      "0.7        -0.229700         -0.226472        0.000954         0.000082\n",
      "0.9        -0.229278         -0.226437        0.000787         0.000258\n",
      "1.0        -0.229441         -0.227139        0.000809         0.000328\n"
     ]
    }
   ],
   "source": [
    "searchParam={'subsample':[0.1,0.3,0.5,0.7,0.9,1.0]}\n",
    "turnParams(lgbr,X_train,y_train,cat_vars,searchParam,params,scoring=scorer,cv=5);"
   ]
  },
  {
   "cell_type": "code",
   "execution_count": 24,
   "metadata": {},
   "outputs": [
    {
     "name": "stdout",
     "output_type": "stream",
     "text": [
      "Best params:\n",
      "subsample : 0.9\n",
      "Best score: -0.22838716759\n",
      "      mean_test_score  mean_train_score  std_test_score  std_train_score\n",
      "0.88        -0.228570         -0.223471        0.000793         0.000269\n",
      "0.89        -0.228420         -0.223408        0.000734         0.000263\n",
      "0.90        -0.228387         -0.223367        0.000763         0.000336\n",
      "0.91        -0.228531         -0.223793        0.000857         0.000265\n",
      "0.92        -0.228470         -0.223827        0.000815         0.000254\n"
     ]
    }
   ],
   "source": [
    "searchParam={'subsample':[0.88,0.89,0.9,0.91,0.92]}\n",
    "turnParams(lgbr,X_train,y_train,cat_vars,searchParam,params,scoring=scorer,cv=5);"
   ]
  },
  {
   "cell_type": "code",
   "execution_count": 27,
   "metadata": {},
   "outputs": [
    {
     "name": "stdout",
     "output_type": "stream",
     "text": [
      "Best params:\n",
      "subsample : 0.88\n",
      "Best score: -0.229257495593\n",
      "       mean_test_score  mean_train_score  std_test_score  std_train_score\n",
      "0.850        -0.229444         -0.226215        0.000923         0.000195\n",
      "0.870        -0.229370         -0.226301        0.000890         0.000228\n",
      "0.880        -0.229257         -0.226336        0.000786         0.000323\n",
      "0.885        -0.229332         -0.226523        0.000860         0.000219\n"
     ]
    }
   ],
   "source": [
    "searchParam={'subsample':[0.85,0.87,0.88,0.885]}\n",
    "turnParams(lgbr,X_train,y_train,cat_vars,searchParam,params,scoring=scorer,cv=5);"
   ]
  },
  {
   "cell_type": "markdown",
   "metadata": {},
   "source": [
    "## 2.4 subsample_freq"
   ]
  },
  {
   "cell_type": "code",
   "execution_count": 28,
   "metadata": {},
   "outputs": [
    {
     "name": "stdout",
     "output_type": "stream",
     "text": [
      "Best params:\n",
      "subsample_freq : 1\n",
      "Best score: -0.229257495593\n",
      "   mean_test_score  mean_train_score  std_test_score  std_train_score\n",
      "1        -0.229257         -0.226336        0.000786         0.000323\n",
      "2        -0.229425         -0.226583        0.000827         0.000241\n",
      "3        -0.229316         -0.226504        0.000841         0.000294\n",
      "4        -0.229406         -0.226717        0.000800         0.000331\n",
      "5        -0.229599         -0.226965        0.000864         0.000261\n",
      "6        -0.229510         -0.226922        0.000888         0.000080\n",
      "7        -0.229540         -0.226987        0.000884         0.000145\n",
      "8        -0.229432         -0.226944        0.000908         0.000349\n",
      "9        -0.229517         -0.226970        0.000827         0.000207\n"
     ]
    }
   ],
   "source": [
    "searchParam={'subsample_freq':[1,2,3,4,5,6,7,8,9]}\n",
    "turnParams(lgbr,X_train,y_train,cat_vars,searchParam,params,scoring=scorer,cv=5);"
   ]
  },
  {
   "cell_type": "markdown",
   "metadata": {},
   "source": [
    "## 2.5 colsample_bytree"
   ]
  },
  {
   "cell_type": "code",
   "execution_count": 29,
   "metadata": {},
   "outputs": [
    {
     "name": "stdout",
     "output_type": "stream",
     "text": [
      "Best params:\n",
      "colsample_bytree : 0.8\n",
      "Best score: -0.229257495593\n",
      "     mean_test_score  mean_train_score  std_test_score  std_train_score\n",
      "0.1        -0.235373         -0.235124        0.000824         0.000205\n",
      "0.3        -0.230049         -0.228697        0.000838         0.000197\n",
      "0.5        -0.229624         -0.227590        0.000725         0.000293\n",
      "0.7        -0.229315         -0.226684        0.000771         0.000281\n",
      "0.8        -0.229257         -0.226336        0.000786         0.000323\n",
      "0.9        -0.229480         -0.225914        0.000830         0.000170\n",
      "1.0        -0.229601         -0.225376        0.000847         0.000213\n"
     ]
    }
   ],
   "source": [
    "searchParam={'colsample_bytree':[0.1,0.3,0.5,0.7,0.8,0.9,1.0]}\n",
    "turnParams(lgbr,X_train,y_train,cat_vars,searchParam,params,scoring=scorer,cv=5);"
   ]
  },
  {
   "cell_type": "markdown",
   "metadata": {},
   "source": [
    "## 2.6 reg_alpha"
   ]
  },
  {
   "cell_type": "code",
   "execution_count": 32,
   "metadata": {},
   "outputs": [
    {
     "name": "stdout",
     "output_type": "stream",
     "text": [
      "Best params:\n",
      "reg_alpha : 0\n",
      "Best score: -0.229257495593\n",
      "          mean_test_score  mean_train_score  std_test_score  std_train_score\n",
      "0.00000         -0.229257         -0.226336        0.000786         0.000323\n",
      "0.00001         -0.229257         -0.226336        0.000786         0.000323\n",
      "0.00100         -0.229257         -0.226336        0.000786         0.000323\n",
      "0.10000         -0.229343         -0.226344        0.000864         0.000120\n",
      "0.50000         -0.229322         -0.226444        0.000855         0.000237\n",
      "1.00000         -0.229376         -0.226422        0.000770         0.000233\n",
      "3.00000         -0.229376         -0.226564        0.000828         0.000157\n",
      "5.00000         -0.229433         -0.226735        0.000818         0.000203\n",
      "10.00000        -0.229357         -0.226836        0.000832         0.000176\n"
     ]
    }
   ],
   "source": [
    "searchParam={'reg_alpha':[0,1e-5,1e-3,0.1,0.5,1,3,5,10]}\n",
    "turnParams(lgbr,X_train,y_train,cat_vars,searchParam,params,scoring=scorer,cv=5);"
   ]
  },
  {
   "cell_type": "markdown",
   "metadata": {},
   "source": [
    "## 2.7 reg_lambda"
   ]
  },
  {
   "cell_type": "code",
   "execution_count": 34,
   "metadata": {},
   "outputs": [
    {
     "name": "stdout",
     "output_type": "stream",
     "text": [
      "Best params:\n",
      "reg_lambda : 0.1\n",
      "Best score: -0.229227075495\n",
      "          mean_test_score  mean_train_score  std_test_score  std_train_score\n",
      "0.00000         -0.229257         -0.226336        0.000786         0.000323\n",
      "0.00001         -0.229257         -0.226336        0.000786         0.000323\n",
      "0.00100         -0.229257         -0.226336        0.000786         0.000323\n",
      "0.10000         -0.229227         -0.226295        0.000836         0.000182\n",
      "0.50000         -0.229321         -0.226412        0.000711         0.000401\n",
      "1.00000         -0.229349         -0.226327        0.000770         0.000262\n",
      "3.00000         -0.229340         -0.226305        0.000749         0.000323\n",
      "5.00000         -0.229293         -0.226250        0.000863         0.000139\n",
      "10.00000        -0.229236         -0.226299        0.000817         0.000154\n"
     ]
    }
   ],
   "source": [
    "searchParam={'reg_lambda':[0,1e-5,1e-3,0.1,0.5,1,3,5,10]}\n",
    "turnParams(lgbr,X_train,y_train,cat_vars,searchParam,params,scoring=scorer,cv=5);"
   ]
  },
  {
   "cell_type": "markdown",
   "metadata": {},
   "source": [
    "## 2.8 min_child_samples"
   ]
  },
  {
   "cell_type": "code",
   "execution_count": 27,
   "metadata": {},
   "outputs": [
    {
     "name": "stdout",
     "output_type": "stream",
     "text": [
      "Best params:\n",
      "min_child_samples : 30\n",
      "Best score: -0.228366227091\n",
      "     mean_test_score  mean_train_score  std_test_score  std_train_score\n",
      "1          -0.228387         -0.223367        0.000763         0.000336\n",
      "2          -0.228387         -0.223367        0.000763         0.000336\n",
      "5          -0.228387         -0.223367        0.000763         0.000336\n",
      "10         -0.228387         -0.223367        0.000763         0.000336\n",
      "20         -0.228423         -0.223652        0.000734         0.000453\n",
      "30         -0.228366         -0.223477        0.000771         0.000288\n",
      "50         -0.228446         -0.223573        0.000705         0.000325\n",
      "100        -0.228472         -0.223767        0.000785         0.000332\n"
     ]
    }
   ],
   "source": [
    "searchParam={'min_child_samples':[1,2,5,10,20,30,50,100]}\n",
    "turnParams(lgbr,X_train,y_train,cat_vars,searchParam,params,scoring=scorer,cv=5);"
   ]
  },
  {
   "cell_type": "code",
   "execution_count": 172,
   "metadata": {},
   "outputs": [
    {
     "name": "stdout",
     "output_type": "stream",
     "text": [
      "Best params:\n",
      "min_child_samples : 3\n",
      "Best score: 0.63428579984\n",
      "   mean_test_score  mean_train_score  std_test_score  std_train_score\n",
      "3         0.634286          0.676859        0.002134         0.001064\n",
      "4         0.634286          0.676859        0.002134         0.001064\n",
      "5         0.634286          0.676859        0.002134         0.001064\n",
      "6         0.634286          0.676859        0.002134         0.001064\n",
      "7         0.634286          0.676859        0.002134         0.001064\n"
     ]
    }
   ],
   "source": [
    "searchParam={'min_child_samples':[3,4,5,6,7]}\n",
    "turnParams(lgbr,X_train,y_train,cat_vars,searchParam,params,scoring=scorer,cv=5);"
   ]
  },
  {
   "cell_type": "markdown",
   "metadata": {},
   "source": [
    "## 2.9 min_child_weight"
   ]
  },
  {
   "cell_type": "code",
   "execution_count": 173,
   "metadata": {},
   "outputs": [
    {
     "name": "stdout",
     "output_type": "stream",
     "text": [
      "Best params:\n",
      "min_child_weight : 1e-05\n",
      "Best score: 0.63428579984\n",
      "         mean_test_score  mean_train_score  std_test_score  std_train_score\n",
      "0.00001         0.634286          0.676859        0.002134         0.001064\n",
      "0.00100         0.634286          0.676859        0.002134         0.001064\n",
      "0.10000         0.634286          0.676859        0.002134         0.001064\n",
      "0.50000         0.634286          0.676859        0.002134         0.001064\n",
      "1.00000         0.634286          0.676859        0.002134         0.001064\n",
      "3.00000         0.634286          0.676859        0.002134         0.001064\n",
      "5.00000         0.634286          0.676859        0.002134         0.001064\n"
     ]
    }
   ],
   "source": [
    "searchParam={'min_child_weight':[1e-5,1e-3,0.1,0.5,1.0,3.0,5.0]}\n",
    "turnParams(lgbc,X,y,cat_features,searchParam,params,scoring='roc_auc',cv=5);"
   ]
  },
  {
   "cell_type": "markdown",
   "metadata": {},
   "source": [
    "## 2.10 max_bin"
   ]
  },
  {
   "cell_type": "code",
   "execution_count": 174,
   "metadata": {},
   "outputs": [
    {
     "name": "stdout",
     "output_type": "stream",
     "text": [
      "Best params:\n",
      "max_bin : 255\n",
      "Best score: 0.63428579984\n",
      "     mean_test_score  mean_train_score  std_test_score  std_train_score\n",
      "31          0.632909          0.675524        0.002234         0.001220\n",
      "63          0.633120          0.675998        0.001408         0.000908\n",
      "127         0.633413          0.676443        0.002107         0.001359\n",
      "255         0.634286          0.676859        0.002134         0.001064\n",
      "511         0.632746          0.676565        0.001914         0.001183\n"
     ]
    }
   ],
   "source": [
    "searchParam={'max_bin':[31,63,127,255,511]}\n",
    "turnParams(lgbc,X,y,cat_features,searchParam,params,scoring='roc_auc',cv=5);"
   ]
  },
  {
   "cell_type": "markdown",
   "metadata": {},
   "source": [
    "## 2.11 min_split_gain"
   ]
  },
  {
   "cell_type": "code",
   "execution_count": 183,
   "metadata": {},
   "outputs": [
    {
     "name": "stdout",
     "output_type": "stream",
     "text": [
      "Best params:\n",
      "min_split_gain : 1\n",
      "Best score: 0.63428579984\n",
      "     mean_test_score  mean_train_score  std_test_score  std_train_score\n",
      "0.5         0.634007          0.676327        0.002064         0.000875\n",
      "0.9         0.634016          0.676880        0.002242         0.001080\n",
      "1.0         0.634286          0.676859        0.002134         0.001064\n",
      "1.1         0.633735          0.676845        0.002634         0.001043\n",
      "2.0         0.634004          0.676904        0.001815         0.001361\n",
      "3.0         0.633310          0.676621        0.001720         0.001495\n"
     ]
    }
   ],
   "source": [
    "searchParam={'min_split_gain':[0.5,0.9,1,1.1,2,3]}\n",
    "turnParams(lgbc,X,y,cat_features,searchParam,params,scoring='roc_auc',cv=5);"
   ]
  },
  {
   "cell_type": "markdown",
   "metadata": {},
   "source": [
    "## 2.12 lower learning_rate"
   ]
  },
  {
   "cell_type": "code",
   "execution_count": 28,
   "metadata": {},
   "outputs": [
    {
     "name": "stdout",
     "output_type": "stream",
     "text": [
      "[20]\tcv_agg's rmse: 0.251917 + 0.00153121\n",
      "[40]\tcv_agg's rmse: 0.246151 + 0.00150301\n",
      "[60]\tcv_agg's rmse: 0.242009 + 0.00146759\n",
      "[80]\tcv_agg's rmse: 0.239072 + 0.00143818\n",
      "[100]\tcv_agg's rmse: 0.236906 + 0.00141288\n",
      "[120]\tcv_agg's rmse: 0.235311 + 0.00139108\n",
      "[140]\tcv_agg's rmse: 0.234124 + 0.0013653\n",
      "[160]\tcv_agg's rmse: 0.233193 + 0.00134525\n",
      "[180]\tcv_agg's rmse: 0.23247 + 0.00132646\n",
      "[200]\tcv_agg's rmse: 0.231904 + 0.00131174\n",
      "[220]\tcv_agg's rmse: 0.231434 + 0.00129734\n",
      "[240]\tcv_agg's rmse: 0.231078 + 0.00128433\n",
      "[260]\tcv_agg's rmse: 0.230787 + 0.00127815\n",
      "[280]\tcv_agg's rmse: 0.230502 + 0.0012689\n",
      "[300]\tcv_agg's rmse: 0.230254 + 0.00126562\n",
      "[320]\tcv_agg's rmse: 0.230047 + 0.00125545\n",
      "[340]\tcv_agg's rmse: 0.229853 + 0.00125165\n",
      "[360]\tcv_agg's rmse: 0.229693 + 0.00124296\n",
      "[380]\tcv_agg's rmse: 0.229545 + 0.00123786\n",
      "[400]\tcv_agg's rmse: 0.229425 + 0.00122966\n",
      "[420]\tcv_agg's rmse: 0.2293 + 0.00122443\n",
      "[440]\tcv_agg's rmse: 0.229187 + 0.00122375\n",
      "[460]\tcv_agg's rmse: 0.229089 + 0.00122267\n",
      "[480]\tcv_agg's rmse: 0.229 + 0.00122114\n",
      "[500]\tcv_agg's rmse: 0.228905 + 0.00121952\n",
      "[520]\tcv_agg's rmse: 0.228817 + 0.00122217\n",
      "[540]\tcv_agg's rmse: 0.228745 + 0.00121862\n",
      "[560]\tcv_agg's rmse: 0.228676 + 0.00122041\n",
      "[580]\tcv_agg's rmse: 0.228604 + 0.00121682\n",
      "[600]\tcv_agg's rmse: 0.228541 + 0.00121918\n",
      "[620]\tcv_agg's rmse: 0.228493 + 0.00121937\n",
      "[640]\tcv_agg's rmse: 0.228445 + 0.00122171\n",
      "[660]\tcv_agg's rmse: 0.228402 + 0.00122485\n",
      "[680]\tcv_agg's rmse: 0.228358 + 0.00122617\n",
      "[700]\tcv_agg's rmse: 0.22831 + 0.0012261\n",
      "[720]\tcv_agg's rmse: 0.228269 + 0.00122704\n",
      "[740]\tcv_agg's rmse: 0.228219 + 0.00122952\n",
      "[760]\tcv_agg's rmse: 0.228177 + 0.00122596\n",
      "[780]\tcv_agg's rmse: 0.228138 + 0.00122811\n",
      "[800]\tcv_agg's rmse: 0.228103 + 0.00122906\n",
      "[820]\tcv_agg's rmse: 0.228075 + 0.00122932\n",
      "[840]\tcv_agg's rmse: 0.228046 + 0.0012316\n",
      "[860]\tcv_agg's rmse: 0.228026 + 0.00123302\n",
      "[880]\tcv_agg's rmse: 0.228009 + 0.00123313\n",
      "[900]\tcv_agg's rmse: 0.227996 + 0.00123485\n",
      "[920]\tcv_agg's rmse: 0.227987 + 0.00123425\n",
      "[940]\tcv_agg's rmse: 0.227982 + 0.0012355\n",
      "[960]\tcv_agg's rmse: 0.227979 + 0.00123701\n",
      "[980]\tcv_agg's rmse: 0.227978 + 0.001238\n",
      "[1000]\tcv_agg's rmse: 0.227978 + 0.00123879\n",
      "Best Iteration: 986\n",
      "Model report on trian:\n",
      "Train RMSE:0.2239\n",
      "Model report on test:\n",
      "Test RMSE:0.2278\n"
     ]
    },
    {
     "data": {
      "image/png": "[encoded data removed]",
      "text/plain": [
       "<matplotlib.figure.Figure at 0x7f11be0be8d0>"
      ]
     },
     "metadata": {},
     "output_type": "display_data"
    }
   ],
   "source": [
    "params['learning_rate']=0.01\n",
    "lgbr=lgb.LGBMRegressor(**params)\n",
    "get_lgb_params(params,cvparams,tran_table)\n",
    "feat_imp=modelfit(lgbr,X_train,y_train,X_val,y_val,cat_vars,cvparams,useTrainCV=True,cv_folds=5,early_stopping_rounds=30)"
   ]
  },
  {
   "cell_type": "code",
   "execution_count": 31,
   "metadata": {},
   "outputs": [
    {
     "name": "stdout",
     "output_type": "stream",
     "text": [
      "[20]\tcv_agg's rmse: 0.236703 + 0.00139293\n",
      "[40]\tcv_agg's rmse: 0.231819 + 0.00130524\n",
      "[60]\tcv_agg's rmse: 0.230283 + 0.00127033\n",
      "[80]\tcv_agg's rmse: 0.229483 + 0.00124622\n",
      "[100]\tcv_agg's rmse: 0.22899 + 0.00123823\n",
      "[120]\tcv_agg's rmse: 0.228651 + 0.00123133\n",
      "[140]\tcv_agg's rmse: 0.228391 + 0.00124692\n",
      "[160]\tcv_agg's rmse: 0.228186 + 0.00126727\n",
      "[180]\tcv_agg's rmse: 0.228085 + 0.00125273\n",
      "[200]\tcv_agg's rmse: 0.228063 + 0.0012526\n",
      "[220]\tcv_agg's rmse: 0.228063 + 0.0012526\n",
      "Best Iteration: 200\n",
      "Model report on trian:\n",
      "Train RMSE:0.2240\n",
      "Model report on test:\n",
      "Test RMSE:0.2277\n"
     ]
    },
    {
     "data": {
      "image/png": "[encoded data removed]",
      "text/plain": [
       "<matplotlib.figure.Figure at 0x7f1228717e10>"
      ]
     },
     "metadata": {},
     "output_type": "display_data"
    }
   ],
   "source": [
    "params['learning_rate']=0.05\n",
    "lgbr=lgb.LGBMRegressor(**params)\n",
    "get_lgb_params(params,cvparams,tran_table)\n",
    "feat_imp=modelfit(lgbr,X_train,y_train,X_val,y_val,cat_vars,cvparams,useTrainCV=True,cv_folds=5,early_stopping_rounds=30)"
   ]
  },
  {
   "cell_type": "code",
   "execution_count": 32,
   "metadata": {
    "collapsed": true
   },
   "outputs": [],
   "source": [
    "params['n_estimators']=200"
   ]
  },
  {
   "cell_type": "markdown",
   "metadata": {},
   "source": [
    "# 3 Final model"
   ]
  },
  {
   "cell_type": "code",
   "execution_count": 33,
   "metadata": {},
   "outputs": [
    {
     "data": {
      "text/plain": [
       "{'boosting_type': 'gbdt',\n",
       " 'colsample_bytree': 0.8,\n",
       " 'is_unbalance': True,\n",
       " 'learning_rate': 0.05,\n",
       " 'max_bin': 255,\n",
       " 'max_depth': 9,\n",
       " 'min_child_samples': 30,\n",
       " 'min_child_weight': 5,\n",
       " 'min_split_gain': 1,\n",
       " 'n_estimators': 200,\n",
       " 'n_jobs': -1,\n",
       " 'num_leaves': 35,\n",
       " 'objective': 'regression',\n",
       " 'random_state': 9,\n",
       " 'reg_alpha': 0,\n",
       " 'reg_lambda': 0,\n",
       " 'subsample': 0.9,\n",
       " 'subsample_freq': 1}"
      ]
     },
     "execution_count": 33,
     "metadata": {},
     "output_type": "execute_result"
    }
   ],
   "source": [
    "params"
   ]
  },
  {
   "cell_type": "code",
   "execution_count": 34,
   "metadata": {
    "collapsed": true
   },
   "outputs": [],
   "source": [
    "lgbr_opt=lgb.LGBMRegressor(**params)"
   ]
  },
  {
   "cell_type": "code",
   "execution_count": 35,
   "metadata": {},
   "outputs": [
    {
     "data": {
      "text/plain": [
       "LGBMRegressor(boosting_type='gbdt', colsample_bytree=0.8, is_unbalance=True,\n",
       "       learning_rate=0.05, max_bin=255, max_depth=9, min_child_samples=30,\n",
       "       min_child_weight=5, min_split_gain=1, n_estimators=200, n_jobs=-1,\n",
       "       num_leaves=35, objective='regression', random_state=9, reg_alpha=0,\n",
       "       reg_lambda=0, silent=True, subsample=0.9, subsample_for_bin=50000,\n",
       "       subsample_freq=1)"
      ]
     },
     "execution_count": 35,
     "metadata": {},
     "output_type": "execute_result"
    }
   ],
   "source": [
    "lgbr_opt.fit(train_X,train_y,feature_name=list(train_X.columns),categorical_feature=cat_vars)"
   ]
  },
  {
   "cell_type": "code",
   "execution_count": 37,
   "metadata": {
    "collapsed": true
   },
   "outputs": [],
   "source": [
    "pred_test=lgbr_opt.predict(test_X)"
   ]
  },
  {
   "cell_type": "code",
   "execution_count": 266,
   "metadata": {
    "collapsed": true
   },
   "outputs": [],
   "source": [
    "pred_test[pred_test > 1] = 1\n",
    "pred_test[pred_test < 0] = 0\n",
    "sub_df = pd.DataFrame({\"item_id\": test_id})\n",
    "sub_df[\"deal_probability\"] = pred_test\n",
    "sub_df.to_csv(data_dirs['pred_result'], index=False)"
   ]
  },
  {
   "cell_type": "code",
   "execution_count": 267,
   "metadata": {},
   "outputs": [
    {
     "data": {
      "text/html": [
       "<div>\n",
       "<style>\n",
       "    .dataframe thead tr:only-child th {\n",
       "        text-align: right;\n",
       "    }\n",
       "\n",
       "    .dataframe thead th {\n",
       "        text-align: left;\n",
       "    }\n",
       "\n",
       "    .dataframe tbody tr th {\n",
       "        vertical-align: top;\n",
       "    }\n",
       "</style>\n",
       "<table border=\"1\" class=\"dataframe\">\n",
       "  <thead>\n",
       "    <tr style=\"text-align: right;\">\n",
       "      <th></th>\n",
       "      <th>id</th>\n",
       "      <th>target</th>\n",
       "    </tr>\n",
       "  </thead>\n",
       "  <tbody>\n",
       "    <tr>\n",
       "      <th>0</th>\n",
       "      <td>0</td>\n",
       "      <td>0.448932</td>\n",
       "    </tr>\n",
       "    <tr>\n",
       "      <th>1</th>\n",
       "      <td>1</td>\n",
       "      <td>0.448197</td>\n",
       "    </tr>\n",
       "    <tr>\n",
       "      <th>2</th>\n",
       "      <td>2</td>\n",
       "      <td>0.417098</td>\n",
       "    </tr>\n",
       "    <tr>\n",
       "      <th>3</th>\n",
       "      <td>3</td>\n",
       "      <td>0.314295</td>\n",
       "    </tr>\n",
       "    <tr>\n",
       "      <th>4</th>\n",
       "      <td>4</td>\n",
       "      <td>0.505310</td>\n",
       "    </tr>\n",
       "  </tbody>\n",
       "</table>\n",
       "</div>"
      ],
      "text/plain": [
       "   id    target\n",
       "0   0  0.448932\n",
       "1   1  0.448197\n",
       "2   2  0.417098\n",
       "3   3  0.314295\n",
       "4   4  0.505310"
      ]
     },
     "execution_count": 267,
     "metadata": {},
     "output_type": "execute_result"
    }
   ],
   "source": [
    "predict_result.head()"
   ]
  },
  {
   "cell_type": "code",
   "execution_count": 268,
   "metadata": {
    "collapsed": true
   },
   "outputs": [],
   "source": [
    "predict_result.to_csv('/home/yw/study/Competition/Safe_Driver_Prediction_20171014/20171030_12lgbm.csv',index=False)"
   ]
  },
  {
   "cell_type": "code",
   "execution_count": null,
   "metadata": {
    "collapsed": true
   },
   "outputs": [],
   "source": []
  }
 ],
 "metadata": {
  "kernelspec": {
   "display_name": "Python 3",
   "language": "python",
   "name": "python3"
  },
  "language_info": {
   "codemirror_mode": {
    "name": "ipython",
    "version": 3
   },
   "file_extension": ".py",
   "mimetype": "text/x-python",
   "name": "python",
   "nbconvert_exporter": "python",
   "pygments_lexer": "ipython3",
   "version": "3.6.2"
  }
 },
 "nbformat": 4,
 "nbformat_minor": 2
}
