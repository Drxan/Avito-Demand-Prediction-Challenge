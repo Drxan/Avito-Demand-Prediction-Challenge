{
 "cells": [
  {
   "cell_type": "code",
   "execution_count": 31,
   "metadata": {},
   "outputs": [],
   "source": [
    "import numpy as np\n",
    "import pandas as pd\n",
    "from keras.preprocessing import sequence\n",
    "from string import punctuation as en_punctuation\n",
    "import re\n",
    "from collections import Counter\n",
    "from nltk.corpus import stopwords\n",
    "from collections import defaultdict\n",
    "from sklearn.feature_extraction.text import TfidfVectorizer\n",
    "import gensim\n",
    "from sklearn.decomposition import TruncatedSVD\n",
    "from scipy.sparse import issparse\n",
    "import seaborn as sns\n",
    "import matplotlib.pyplot as plt\n",
    "import os\n",
    "%matplotlib inline"
   ]
  },
  {
   "cell_type": "code",
   "execution_count": 112,
   "metadata": {
    "collapsed": true
   },
   "outputs": [],
   "source": [
    "dc['uy'].append(0)"
   ]
  },
  {
   "cell_type": "code",
   "execution_count": 154,
   "metadata": {},
   "outputs": [],
   "source": [
    "dc[np.nan].append(9)"
   ]
  },
  {
   "cell_type": "code",
   "execution_count": 155,
   "metadata": {},
   "outputs": [
    {
     "data": {
      "text/plain": [
       "defaultdict(list, {'uy': [0], nan: [9]})"
      ]
     },
     "execution_count": 155,
     "metadata": {},
     "output_type": "execute_result"
    }
   ],
   "source": [
    "dc"
   ]
  },
  {
   "cell_type": "code",
   "execution_count": 32,
   "metadata": {
    "collapsed": true
   },
   "outputs": [],
   "source": [
    "def reverse_str(strs):\n",
    "    try:\n",
    "        idx=strs.index(' ')\n",
    "    except ValueError:\n",
    "        idx=-1\n",
    "    if idx==-1:\n",
    "        return(strs)\n",
    "    else:\n",
    "        return reverse_str(strs[idx+1:len(strs)])+' '+strs[0:idx]"
   ]
  },
  {
   "cell_type": "code",
   "execution_count": 33,
   "metadata": {
    "collapsed": true
   },
   "outputs": [],
   "source": [
    "current_dir = r'D:\\yuwei\\study\\competition\\Predict-demand-online-classified-ad'\n",
    "\n",
    "periods_train_dir = os.path.join(current_dir,'data/periods_train.csv')\n",
    "periods_test_dir = os.path.join(current_dir,'data/periods_test.csv')\n",
    "train_active_dir = os.path.join(current_dir,'data/train_active.csv')\n",
    "test_active_dir = os.path.join(current_dir,'data/test_active.csv')\n",
    "train_dir = os.path.join(current_dir,'data/train.csv')\n",
    "test_dir = os.path.join(current_dir,'data/test.csv')"
   ]
  },
  {
   "cell_type": "code",
   "execution_count": 168,
   "metadata": {
    "collapsed": true
   },
   "outputs": [],
   "source": [
    "periods_train = pd.read_csv(periods_train_dir)"
   ]
  },
  {
   "cell_type": "code",
   "execution_count": 34,
   "metadata": {
    "collapsed": true
   },
   "outputs": [],
   "source": [
    "train=pd.read_csv(train_dir)"
   ]
  },
  {
   "cell_type": "code",
   "execution_count": 52,
   "metadata": {
    "collapsed": true
   },
   "outputs": [],
   "source": [
    "test=pd.read_csv(test_dir)"
   ]
  },
  {
   "cell_type": "code",
   "execution_count": 35,
   "metadata": {},
   "outputs": [
    {
     "data": {
      "text/html": [
       "<div>\n",
       "<style>\n",
       "    .dataframe thead tr:only-child th {\n",
       "        text-align: right;\n",
       "    }\n",
       "\n",
       "    .dataframe thead th {\n",
       "        text-align: left;\n",
       "    }\n",
       "\n",
       "    .dataframe tbody tr th {\n",
       "        vertical-align: top;\n",
       "    }\n",
       "</style>\n",
       "<table border=\"1\" class=\"dataframe\">\n",
       "  <thead>\n",
       "    <tr style=\"text-align: right;\">\n",
       "      <th></th>\n",
       "      <th>item_id</th>\n",
       "      <th>user_id</th>\n",
       "      <th>region</th>\n",
       "      <th>city</th>\n",
       "      <th>parent_category_name</th>\n",
       "      <th>category_name</th>\n",
       "      <th>param_1</th>\n",
       "      <th>param_2</th>\n",
       "      <th>param_3</th>\n",
       "      <th>title</th>\n",
       "      <th>description</th>\n",
       "      <th>price</th>\n",
       "      <th>item_seq_number</th>\n",
       "      <th>activation_date</th>\n",
       "      <th>user_type</th>\n",
       "      <th>image</th>\n",
       "      <th>image_top_1</th>\n",
       "      <th>deal_probability</th>\n",
       "    </tr>\n",
       "  </thead>\n",
       "  <tbody>\n",
       "    <tr>\n",
       "      <th>0</th>\n",
       "      <td>b912c3c6a6ad</td>\n",
       "      <td>e00f8ff2eaf9</td>\n",
       "      <td>Свердловская область</td>\n",
       "      <td>Екатеринбург</td>\n",
       "      <td>Личные вещи</td>\n",
       "      <td>Товары для детей и игрушки</td>\n",
       "      <td>Постельные принадлежности</td>\n",
       "      <td>NaN</td>\n",
       "      <td>NaN</td>\n",
       "      <td>Кокоби(кокон для сна)</td>\n",
       "      <td>Кокон для сна малыша,пользовались меньше месяц...</td>\n",
       "      <td>400.0</td>\n",
       "      <td>2</td>\n",
       "      <td>2017-03-28</td>\n",
       "      <td>Private</td>\n",
       "      <td>d10c7e016e03247a3bf2d13348fe959fe6f436c1caf64c...</td>\n",
       "      <td>1008.0</td>\n",
       "      <td>0.12789</td>\n",
       "    </tr>\n",
       "    <tr>\n",
       "      <th>1</th>\n",
       "      <td>2dac0150717d</td>\n",
       "      <td>39aeb48f0017</td>\n",
       "      <td>Самарская область</td>\n",
       "      <td>Самара</td>\n",
       "      <td>Для дома и дачи</td>\n",
       "      <td>Мебель и интерьер</td>\n",
       "      <td>Другое</td>\n",
       "      <td>NaN</td>\n",
       "      <td>NaN</td>\n",
       "      <td>Стойка для Одежды</td>\n",
       "      <td>Стойка для одежды, под вешалки. С бутика.</td>\n",
       "      <td>3000.0</td>\n",
       "      <td>19</td>\n",
       "      <td>2017-03-26</td>\n",
       "      <td>Private</td>\n",
       "      <td>79c9392cc51a9c81c6eb91eceb8e552171db39d7142700...</td>\n",
       "      <td>692.0</td>\n",
       "      <td>0.00000</td>\n",
       "    </tr>\n",
       "    <tr>\n",
       "      <th>2</th>\n",
       "      <td>ba83aefab5dc</td>\n",
       "      <td>91e2f88dd6e3</td>\n",
       "      <td>Ростовская область</td>\n",
       "      <td>Ростов-на-Дону</td>\n",
       "      <td>Бытовая электроника</td>\n",
       "      <td>Аудио и видео</td>\n",
       "      <td>Видео, DVD и Blu-ray плееры</td>\n",
       "      <td>NaN</td>\n",
       "      <td>NaN</td>\n",
       "      <td>Philips bluray</td>\n",
       "      <td>В хорошем состоянии, домашний кинотеатр с blu ...</td>\n",
       "      <td>4000.0</td>\n",
       "      <td>9</td>\n",
       "      <td>2017-03-20</td>\n",
       "      <td>Private</td>\n",
       "      <td>b7f250ee3f39e1fedd77c141f273703f4a9be59db4b48a...</td>\n",
       "      <td>3032.0</td>\n",
       "      <td>0.43177</td>\n",
       "    </tr>\n",
       "  </tbody>\n",
       "</table>\n",
       "</div>"
      ],
      "text/plain": [
       "        item_id       user_id                region            city  \\\n",
       "0  b912c3c6a6ad  e00f8ff2eaf9  Свердловская область    Екатеринбург   \n",
       "1  2dac0150717d  39aeb48f0017     Самарская область          Самара   \n",
       "2  ba83aefab5dc  91e2f88dd6e3    Ростовская область  Ростов-на-Дону   \n",
       "\n",
       "  parent_category_name               category_name  \\\n",
       "0          Личные вещи  Товары для детей и игрушки   \n",
       "1      Для дома и дачи           Мебель и интерьер   \n",
       "2  Бытовая электроника               Аудио и видео   \n",
       "\n",
       "                       param_1 param_2 param_3                  title  \\\n",
       "0    Постельные принадлежности     NaN     NaN  Кокоби(кокон для сна)   \n",
       "1                       Другое     NaN     NaN      Стойка для Одежды   \n",
       "2  Видео, DVD и Blu-ray плееры     NaN     NaN         Philips bluray   \n",
       "\n",
       "                                         description   price  item_seq_number  \\\n",
       "0  Кокон для сна малыша,пользовались меньше месяц...   400.0                2   \n",
       "1          Стойка для одежды, под вешалки. С бутика.  3000.0               19   \n",
       "2  В хорошем состоянии, домашний кинотеатр с blu ...  4000.0                9   \n",
       "\n",
       "  activation_date user_type  \\\n",
       "0      2017-03-28   Private   \n",
       "1      2017-03-26   Private   \n",
       "2      2017-03-20   Private   \n",
       "\n",
       "                                               image  image_top_1  \\\n",
       "0  d10c7e016e03247a3bf2d13348fe959fe6f436c1caf64c...       1008.0   \n",
       "1  79c9392cc51a9c81c6eb91eceb8e552171db39d7142700...        692.0   \n",
       "2  b7f250ee3f39e1fedd77c141f273703f4a9be59db4b48a...       3032.0   \n",
       "\n",
       "   deal_probability  \n",
       "0           0.12789  \n",
       "1           0.00000  \n",
       "2           0.43177  "
      ]
     },
     "execution_count": 35,
     "metadata": {},
     "output_type": "execute_result"
    }
   ],
   "source": [
    "train.head(3)"
   ]
  },
  {
   "cell_type": "code",
   "execution_count": 137,
   "metadata": {},
   "outputs": [
    {
     "data": {
      "text/plain": [
       "item_id               0\n",
       "activation_date    5790\n",
       "date_from             0\n",
       "date_to               0\n",
       "dtype: int64"
      ]
     },
     "execution_count": 137,
     "metadata": {},
     "output_type": "execute_result"
    }
   ],
   "source": [
    "periods_train.isnull().sum()"
   ]
  },
  {
   "cell_type": "code",
   "execution_count": 125,
   "metadata": {},
   "outputs": [
    {
     "data": {
      "text/html": [
       "<div>\n",
       "<style>\n",
       "    .dataframe thead tr:only-child th {\n",
       "        text-align: right;\n",
       "    }\n",
       "\n",
       "    .dataframe thead th {\n",
       "        text-align: left;\n",
       "    }\n",
       "\n",
       "    .dataframe tbody tr th {\n",
       "        vertical-align: top;\n",
       "    }\n",
       "</style>\n",
       "<table border=\"1\" class=\"dataframe\">\n",
       "  <thead>\n",
       "    <tr style=\"text-align: right;\">\n",
       "      <th></th>\n",
       "      <th>item_id</th>\n",
       "      <th>date_from</th>\n",
       "      <th>date_to</th>\n",
       "    </tr>\n",
       "  </thead>\n",
       "  <tbody>\n",
       "    <tr>\n",
       "      <th>0</th>\n",
       "      <td>8f5caef7afb0</td>\n",
       "      <td>2017-03-15</td>\n",
       "      <td>2017-03-16</td>\n",
       "    </tr>\n",
       "    <tr>\n",
       "      <th>1</th>\n",
       "      <td>66218ff526d1</td>\n",
       "      <td>2017-03-15</td>\n",
       "      <td>2017-03-18</td>\n",
       "    </tr>\n",
       "    <tr>\n",
       "      <th>2</th>\n",
       "      <td>b237d9539b21</td>\n",
       "      <td>2017-03-15</td>\n",
       "      <td>2017-03-28</td>\n",
       "    </tr>\n",
       "  </tbody>\n",
       "</table>\n",
       "</div>"
      ],
      "text/plain": [
       "        item_id  date_from    date_to\n",
       "0  8f5caef7afb0 2017-03-15 2017-03-16\n",
       "1  66218ff526d1 2017-03-15 2017-03-18\n",
       "2  b237d9539b21 2017-03-15 2017-03-28"
      ]
     },
     "execution_count": 125,
     "metadata": {},
     "output_type": "execute_result"
    }
   ],
   "source": [
    "periods_train.head(3)"
   ]
  },
  {
   "cell_type": "code",
   "execution_count": 127,
   "metadata": {},
   "outputs": [
    {
     "data": {
      "text/plain": [
       "2"
      ]
     },
     "execution_count": 127,
     "metadata": {},
     "output_type": "execute_result"
    }
   ],
   "source": [
    "(periods_train.loc[0,'date_to']-periods_train.loc[0,'date_from']).days+1"
   ]
  },
  {
   "cell_type": "code",
   "execution_count": 171,
   "metadata": {},
   "outputs": [
    {
     "data": {
      "text/html": [
       "<div>\n",
       "<style>\n",
       "    .dataframe thead tr:only-child th {\n",
       "        text-align: right;\n",
       "    }\n",
       "\n",
       "    .dataframe thead th {\n",
       "        text-align: left;\n",
       "    }\n",
       "\n",
       "    .dataframe tbody tr th {\n",
       "        vertical-align: top;\n",
       "    }\n",
       "</style>\n",
       "<table border=\"1\" class=\"dataframe\">\n",
       "  <thead>\n",
       "    <tr style=\"text-align: right;\">\n",
       "      <th></th>\n",
       "      <th>item_id</th>\n",
       "      <th>activation_date</th>\n",
       "      <th>date_from</th>\n",
       "      <th>date_to</th>\n",
       "    </tr>\n",
       "  </thead>\n",
       "  <tbody>\n",
       "    <tr>\n",
       "      <th>0</th>\n",
       "      <td>8f5caef7afb0</td>\n",
       "      <td>2017-02-14</td>\n",
       "      <td>2017-03-15</td>\n",
       "      <td>2017-03-16</td>\n",
       "    </tr>\n",
       "    <tr>\n",
       "      <th>1</th>\n",
       "      <td>66218ff526d1</td>\n",
       "      <td>2017-02-16</td>\n",
       "      <td>2017-03-15</td>\n",
       "      <td>2017-03-18</td>\n",
       "    </tr>\n",
       "    <tr>\n",
       "      <th>2</th>\n",
       "      <td>b237d9539b21</td>\n",
       "      <td>2017-03-01</td>\n",
       "      <td>2017-03-15</td>\n",
       "      <td>2017-03-28</td>\n",
       "    </tr>\n",
       "  </tbody>\n",
       "</table>\n",
       "</div>"
      ],
      "text/plain": [
       "        item_id activation_date   date_from     date_to\n",
       "0  8f5caef7afb0      2017-02-14  2017-03-15  2017-03-16\n",
       "1  66218ff526d1      2017-02-16  2017-03-15  2017-03-18\n",
       "2  b237d9539b21      2017-03-01  2017-03-15  2017-03-28"
      ]
     },
     "execution_count": 171,
     "metadata": {},
     "output_type": "execute_result"
    }
   ],
   "source": [
    "periods_train.head(3)"
   ]
  },
  {
   "cell_type": "code",
   "execution_count": 156,
   "metadata": {},
   "outputs": [
    {
     "data": {
      "text/plain": [
       "Timestamp('2017-09-12 00:00:00')"
      ]
     },
     "execution_count": 156,
     "metadata": {},
     "output_type": "execute_result"
    }
   ],
   "source": [
    "pd.to_datetime('2017-09-12')"
   ]
  },
  {
   "cell_type": "code",
   "execution_count": 30,
   "metadata": {
    "collapsed": true
   },
   "outputs": [],
   "source": [
    "agg_cat=['city','param_1','image_top_1','param_3','param_2','category_name','region','parent_category_name','activation_date']"
   ]
  },
  {
   "cell_type": "markdown",
   "metadata": {},
   "source": [
    "#### (1)按['city','param_1','image_top_1','param_3','param_2','category_name','region','parent_category_name']统计广告价格的均值、中位数、方差、最大最小值等\n",
    "#### (2)根据训练（测试）数据中出现的激活日期，统计每个激活日期当天在展示的广告数量，广告价格（均值，中位数等）\n",
    "#### (3)根据训练（测试）数据中出现的激活日期，在每个激活日期当天按['city','param_1','image_top_1','param_3','param_2','category_name','region','parent_category_name']统计在展示的广告数量，广告价格（均值，中位数等）\n",
    "#### (4)根据训练（测试）数据中出现的激活日期，在每个激活日期当天按[('city','category_name'),('region','category_name'),('city','parent_category_name'),('region','parent_category_name')]统计在展示的广告数量，广告价格（均值，中位数等）\n",
    "#### (5)按['city','param_1','image_top_1','param_3','param_2','category_name','region','parent_category_name']统计广告展示时长的均值、中位数、方差、最大、最小值\n",
    "#### (6)按[('city','category_name'),('region','category_name'),('city','parent_category_name'),('region','parent_category_name')]统计广告展示时长的均值、中位数、方差、最大、最小值"
   ]
  },
  {
   "cell_type": "code",
   "execution_count": 160,
   "metadata": {},
   "outputs": [],
   "source": [
    "a=defaultdict(defaultdict)"
   ]
  },
  {
   "cell_type": "code",
   "execution_count": 161,
   "metadata": {
    "collapsed": true
   },
   "outputs": [],
   "source": [
    "a['2019-09-02']=defaultdict(int)"
   ]
  },
  {
   "cell_type": "code",
   "execution_count": 164,
   "metadata": {},
   "outputs": [],
   "source": [
    "a['2019-09-02']['col']+=1"
   ]
  },
  {
   "cell_type": "code",
   "execution_count": 166,
   "metadata": {},
   "outputs": [
    {
     "data": {
      "text/plain": [
       "1"
      ]
     },
     "execution_count": 166,
     "metadata": {},
     "output_type": "execute_result"
    }
   ],
   "source": [
    "a['2019-09-02']['col']"
   ]
  },
  {
   "cell_type": "code",
   "execution_count": 172,
   "metadata": {},
   "outputs": [
    {
     "data": {
      "text/html": [
       "<div>\n",
       "<style>\n",
       "    .dataframe thead tr:only-child th {\n",
       "        text-align: right;\n",
       "    }\n",
       "\n",
       "    .dataframe thead th {\n",
       "        text-align: left;\n",
       "    }\n",
       "\n",
       "    .dataframe tbody tr th {\n",
       "        vertical-align: top;\n",
       "    }\n",
       "</style>\n",
       "<table border=\"1\" class=\"dataframe\">\n",
       "  <thead>\n",
       "    <tr style=\"text-align: right;\">\n",
       "      <th></th>\n",
       "      <th>item_id</th>\n",
       "      <th>activation_date</th>\n",
       "      <th>date_from</th>\n",
       "      <th>date_to</th>\n",
       "    </tr>\n",
       "  </thead>\n",
       "  <tbody>\n",
       "    <tr>\n",
       "      <th>0</th>\n",
       "      <td>8f5caef7afb0</td>\n",
       "      <td>2017-02-14</td>\n",
       "      <td>2017-03-15</td>\n",
       "      <td>2017-03-16</td>\n",
       "    </tr>\n",
       "  </tbody>\n",
       "</table>\n",
       "</div>"
      ],
      "text/plain": [
       "        item_id activation_date   date_from     date_to\n",
       "0  8f5caef7afb0      2017-02-14  2017-03-15  2017-03-16"
      ]
     },
     "execution_count": 172,
     "metadata": {},
     "output_type": "execute_result"
    }
   ],
   "source": [
    "periods_train.head(1)"
   ]
  },
  {
   "cell_type": "code",
   "execution_count": 176,
   "metadata": {},
   "outputs": [
    {
     "data": {
      "text/plain": [
       "'2017-03-15'"
      ]
     },
     "execution_count": 176,
     "metadata": {},
     "output_type": "execute_result"
    }
   ],
   "source": [
    "periods_train[['date_from','date_to']].iloc[0]['date_from']"
   ]
  },
  {
   "cell_type": "code",
   "execution_count": null,
   "metadata": {
    "collapsed": true
   },
   "outputs": [],
   "source": [
    "def trans_date(date_row,date_list):\n",
    "    result_date=''\n",
    "    for dt in date_list:\n",
    "        if (date_row['date_from'] <= dt) and (date_row['date_to']>=dt):\n",
    "            result_date = dt\n",
    "    date_row['date_from']"
   ]
  },
  {
   "cell_type": "code",
   "execution_count": 177,
   "metadata": {
    "collapsed": true
   },
   "outputs": [],
   "source": [
    "a=defaultdict(defaultdict)"
   ]
  },
  {
   "cell_type": "code",
   "execution_count": 179,
   "metadata": {},
   "outputs": [],
   "source": [
    "a['ere']=defaultdict(int)\n",
    "a['ere']['ty']+=0"
   ]
  },
  {
   "cell_type": "code",
   "execution_count": 184,
   "metadata": {
    "collapsed": true
   },
   "outputs": [],
   "source": [
    "sta_cat_feat=['city','param_1','image_top_1','param_3','param_2','category_name','region','parent_category_name']"
   ]
  },
  {
   "cell_type": "code",
   "execution_count": 183,
   "metadata": {},
   "outputs": [],
   "source": [
    "ac_dates=train['activation_date'].unique()"
   ]
  },
  {
   "cell_type": "code",
   "execution_count": 194,
   "metadata": {
    "collapsed": true
   },
   "outputs": [],
   "source": [
    "def statistic_features(active_file,periods_file,activation_dats,cat_feature,chunk_size=100000):\n",
    "    # 建立字典，用于按天统计各个特征类别下的广告价格\n",
    "    sta_dict1=dict()\n",
    "    for feat in cat_feature:\n",
    "        sta_dict1[feat] = defaultdict(defaultdict)\n",
    "        for dt in activation_dats:\n",
    "            sta_dict1[feat][dt] = defaultdict(list)\n",
    "        \n",
    "    print('>>>Loading periods data...')\n",
    "    perd = pd.read_csv(periods_file)\n",
    "    perd = perd.loc[perd['activation_date'].notnull()]\n",
    "    ck=iter(pd.read_csv(active_file,iterator = True,chunksize=chunk_size))\n",
    "    while True:\n",
    "        try:\n",
    "            ck_df = next(ck)\n",
    "            print(ck_df)\n",
    "            ck_df = pd.merge(ck_df, perd, on=['item_id', 'activation_date'])\n",
    "            print(ck_df)\n",
    "            for idx, data_row in ck_df.iterrows():\n",
    "                print('-----------------------')\n",
    "                print(data_row)\n",
    "                for dt in activation_dats:\n",
    "                    if (data_row['date_from'] <= dt) and (data_row['date_to']>=dt):\n",
    "                        print(dt)\n",
    "                        for feat in cat_feature:\n",
    "                            print(feat,':',data_row['price'])\n",
    "                            sta_dict1[feat][dt][data_row[feat]].append(data_row['price'])  \n",
    "        except StopIteration:\n",
    "            break\n",
    "    return sta_dict1"
   ]
  },
  {
   "cell_type": "code",
   "execution_count": 195,
   "metadata": {},
   "outputs": [
    {
     "name": "stdout",
     "output_type": "stream",
     "text": [
      ">>>Loading periods data...\n",
      "        item_id       user_id                region          city  \\\n",
      "0  b912c3c6a6ad  e00f8ff2eaf9  Свердловская область  Екатеринбург   \n",
      "1  2dac0150717d  39aeb48f0017     Самарская область        Самара   \n",
      "\n",
      "  parent_category_name               category_name                    param_1  \\\n",
      "0          Личные вещи  Товары для детей и игрушки  Постельные принадлежности   \n",
      "1      Для дома и дачи           Мебель и интерьер                     Другое   \n",
      "\n",
      "   param_2  param_3                  title  \\\n",
      "0      NaN      NaN  Кокоби(кокон для сна)   \n",
      "1      NaN      NaN      Стойка для Одежды   \n",
      "\n",
      "                                         description   price  item_seq_number  \\\n",
      "0  Кокон для сна малыша,пользовались меньше месяц...   400.0                2   \n",
      "1          Стойка для одежды, под вешалки. С бутика.  3000.0               19   \n",
      "\n",
      "  activation_date user_type  \\\n",
      "0      2017-03-28   Private   \n",
      "1      2017-03-26   Private   \n",
      "\n",
      "                                               image  image_top_1  \\\n",
      "0  d10c7e016e03247a3bf2d13348fe959fe6f436c1caf64c...       1008.0   \n",
      "1  79c9392cc51a9c81c6eb91eceb8e552171db39d7142700...        692.0   \n",
      "\n",
      "   deal_probability  \n",
      "0           0.12789  \n",
      "1           0.00000  \n",
      "Empty DataFrame\n",
      "Columns: [item_id, user_id, region, city, parent_category_name, category_name, param_1, param_2, param_3, title, description, price, item_seq_number, activation_date, user_type, image, image_top_1, deal_probability, date_from, date_to]\n",
      "Index: []\n",
      "        item_id       user_id              region              city  \\\n",
      "2  ba83aefab5dc  91e2f88dd6e3  Ростовская область    Ростов-на-Дону   \n",
      "3  02996f1dd2ea  bf5cccea572d           Татарстан  Набережные Челны   \n",
      "\n",
      "  parent_category_name               category_name  \\\n",
      "2  Бытовая электроника               Аудио и видео   \n",
      "3          Личные вещи  Товары для детей и игрушки   \n",
      "\n",
      "                       param_1  param_2  param_3           title  \\\n",
      "2  Видео, DVD и Blu-ray плееры      NaN      NaN  Philips bluray   \n",
      "3         Автомобильные кресла      NaN      NaN      Автокресло   \n",
      "\n",
      "                                         description   price  item_seq_number  \\\n",
      "2  В хорошем состоянии, домашний кинотеатр с blu ...  4000.0                9   \n",
      "3                             Продам кресло от0-25кг  2200.0              286   \n",
      "\n",
      "  activation_date user_type  \\\n",
      "2      2017-03-20   Private   \n",
      "3      2017-03-25   Company   \n",
      "\n",
      "                                               image  image_top_1  \\\n",
      "2  b7f250ee3f39e1fedd77c141f273703f4a9be59db4b48a...       3032.0   \n",
      "3  e6ef97e0725637ea84e3d203e82dadb43ed3cc0a1c8413...        796.0   \n",
      "\n",
      "   deal_probability  \n",
      "2           0.43177  \n",
      "3           0.80323  \n",
      "Empty DataFrame\n",
      "Columns: [item_id, user_id, region, city, parent_category_name, category_name, param_1, param_2, param_3, title, description, price, item_seq_number, activation_date, user_type, image, image_top_1, deal_probability, date_from, date_to]\n",
      "Index: []\n",
      "        item_id       user_id                 region       city  \\\n",
      "4  7c90be56d2ab  ef50846afc0b  Волгоградская область  Волгоград   \n",
      "5  51e0962387f7  bbfad0b1ad0a              Татарстан  Чистополь   \n",
      "\n",
      "  parent_category_name               category_name               param_1  \\\n",
      "4            Транспорт                  Автомобили            С пробегом   \n",
      "5          Личные вещи  Товары для детей и игрушки  Автомобильные кресла   \n",
      "\n",
      "      param_2  param_3           title               description    price  \\\n",
      "4  ВАЗ (LADA)   2110.0  ВАЗ 2110, 2003  Все вопросы по телефону.  40000.0   \n",
      "5         NaN      NaN     Авто люлька       В хорошем состоянии   1300.0   \n",
      "\n",
      "   item_seq_number activation_date user_type  \\\n",
      "4                3      2017-03-16   Private   \n",
      "5                9      2017-03-28   Private   \n",
      "\n",
      "                                               image  image_top_1  \\\n",
      "4  54a687a3a0fc1d68aed99bdaaf551c5c70b761b16fd0a2...       2264.0   \n",
      "5  eb6ad1231c59d3dc7e4020e724ffe8e4d302023ddcbb99...        796.0   \n",
      "\n",
      "   deal_probability  \n",
      "4           0.20797  \n",
      "5           0.80323  \n"
     ]
    },
    {
     "ename": "KeyboardInterrupt",
     "evalue": "",
     "output_type": "error",
     "traceback": [
      "\u001b[1;31m---------------------------------------------------------------------------\u001b[0m",
      "\u001b[1;31mKeyboardInterrupt\u001b[0m                         Traceback (most recent call last)",
      "\u001b[1;32m<ipython-input-195-f1b9700e4e5b>\u001b[0m in \u001b[0;36m<module>\u001b[1;34m()\u001b[0m\n\u001b[1;32m----> 1\u001b[1;33m \u001b[0msta_dict\u001b[0m\u001b[1;33m=\u001b[0m\u001b[0mstatistic_features\u001b[0m\u001b[1;33m(\u001b[0m\u001b[0mtrain_dir\u001b[0m\u001b[1;33m,\u001b[0m\u001b[0mperiods_train_dir\u001b[0m\u001b[1;33m,\u001b[0m\u001b[0mac_dates\u001b[0m\u001b[1;33m,\u001b[0m\u001b[0msta_cat_feat\u001b[0m\u001b[1;33m,\u001b[0m\u001b[0mchunk_size\u001b[0m\u001b[1;33m=\u001b[0m\u001b[1;36m2\u001b[0m\u001b[1;33m)\u001b[0m\u001b[1;33m\u001b[0m\u001b[0m\n\u001b[0m",
      "\u001b[1;32m<ipython-input-194-b76d5cfbe2a8>\u001b[0m in \u001b[0;36mstatistic_features\u001b[1;34m(active_file, periods_file, activation_dats, cat_feature, chunk_size)\u001b[0m\n\u001b[0;32m     15\u001b[0m             \u001b[0mck_df\u001b[0m \u001b[1;33m=\u001b[0m \u001b[0mnext\u001b[0m\u001b[1;33m(\u001b[0m\u001b[0mck\u001b[0m\u001b[1;33m)\u001b[0m\u001b[1;33m\u001b[0m\u001b[0m\n\u001b[0;32m     16\u001b[0m             \u001b[0mprint\u001b[0m\u001b[1;33m(\u001b[0m\u001b[0mck_df\u001b[0m\u001b[1;33m)\u001b[0m\u001b[1;33m\u001b[0m\u001b[0m\n\u001b[1;32m---> 17\u001b[1;33m             \u001b[0mck_df\u001b[0m \u001b[1;33m=\u001b[0m \u001b[0mpd\u001b[0m\u001b[1;33m.\u001b[0m\u001b[0mmerge\u001b[0m\u001b[1;33m(\u001b[0m\u001b[0mck_df\u001b[0m\u001b[1;33m,\u001b[0m \u001b[0mperd\u001b[0m\u001b[1;33m,\u001b[0m \u001b[0mon\u001b[0m\u001b[1;33m=\u001b[0m\u001b[1;33m[\u001b[0m\u001b[1;34m'item_id'\u001b[0m\u001b[1;33m,\u001b[0m \u001b[1;34m'activation_date'\u001b[0m\u001b[1;33m]\u001b[0m\u001b[1;33m)\u001b[0m\u001b[1;33m\u001b[0m\u001b[0m\n\u001b[0m\u001b[0;32m     18\u001b[0m             \u001b[0mprint\u001b[0m\u001b[1;33m(\u001b[0m\u001b[0mck_df\u001b[0m\u001b[1;33m)\u001b[0m\u001b[1;33m\u001b[0m\u001b[0m\n\u001b[0;32m     19\u001b[0m             \u001b[1;32mfor\u001b[0m \u001b[0midx\u001b[0m\u001b[1;33m,\u001b[0m \u001b[0mdata_row\u001b[0m \u001b[1;32min\u001b[0m \u001b[0mck_df\u001b[0m\u001b[1;33m.\u001b[0m\u001b[0miterrows\u001b[0m\u001b[1;33m(\u001b[0m\u001b[1;33m)\u001b[0m\u001b[1;33m:\u001b[0m\u001b[1;33m\u001b[0m\u001b[0m\n",
      "\u001b[1;32mC:\\Anaconda3\\lib\\site-packages\\pandas\\core\\reshape\\merge.py\u001b[0m in \u001b[0;36mmerge\u001b[1;34m(left, right, how, on, left_on, right_on, left_index, right_index, sort, suffixes, copy, indicator)\u001b[0m\n\u001b[0;32m     52\u001b[0m                          \u001b[0mright_index\u001b[0m\u001b[1;33m=\u001b[0m\u001b[0mright_index\u001b[0m\u001b[1;33m,\u001b[0m \u001b[0msort\u001b[0m\u001b[1;33m=\u001b[0m\u001b[0msort\u001b[0m\u001b[1;33m,\u001b[0m \u001b[0msuffixes\u001b[0m\u001b[1;33m=\u001b[0m\u001b[0msuffixes\u001b[0m\u001b[1;33m,\u001b[0m\u001b[1;33m\u001b[0m\u001b[0m\n\u001b[0;32m     53\u001b[0m                          copy=copy, indicator=indicator)\n\u001b[1;32m---> 54\u001b[1;33m     \u001b[1;32mreturn\u001b[0m \u001b[0mop\u001b[0m\u001b[1;33m.\u001b[0m\u001b[0mget_result\u001b[0m\u001b[1;33m(\u001b[0m\u001b[1;33m)\u001b[0m\u001b[1;33m\u001b[0m\u001b[0m\n\u001b[0m\u001b[0;32m     55\u001b[0m \u001b[1;33m\u001b[0m\u001b[0m\n\u001b[0;32m     56\u001b[0m \u001b[1;33m\u001b[0m\u001b[0m\n",
      "\u001b[1;32mC:\\Anaconda3\\lib\\site-packages\\pandas\\core\\reshape\\merge.py\u001b[0m in \u001b[0;36mget_result\u001b[1;34m(self)\u001b[0m\n\u001b[0;32m    567\u001b[0m                 self.left, self.right)\n\u001b[0;32m    568\u001b[0m \u001b[1;33m\u001b[0m\u001b[0m\n\u001b[1;32m--> 569\u001b[1;33m         \u001b[0mjoin_index\u001b[0m\u001b[1;33m,\u001b[0m \u001b[0mleft_indexer\u001b[0m\u001b[1;33m,\u001b[0m \u001b[0mright_indexer\u001b[0m \u001b[1;33m=\u001b[0m \u001b[0mself\u001b[0m\u001b[1;33m.\u001b[0m\u001b[0m_get_join_info\u001b[0m\u001b[1;33m(\u001b[0m\u001b[1;33m)\u001b[0m\u001b[1;33m\u001b[0m\u001b[0m\n\u001b[0m\u001b[0;32m    570\u001b[0m \u001b[1;33m\u001b[0m\u001b[0m\n\u001b[0;32m    571\u001b[0m         \u001b[0mldata\u001b[0m\u001b[1;33m,\u001b[0m \u001b[0mrdata\u001b[0m \u001b[1;33m=\u001b[0m \u001b[0mself\u001b[0m\u001b[1;33m.\u001b[0m\u001b[0mleft\u001b[0m\u001b[1;33m.\u001b[0m\u001b[0m_data\u001b[0m\u001b[1;33m,\u001b[0m \u001b[0mself\u001b[0m\u001b[1;33m.\u001b[0m\u001b[0mright\u001b[0m\u001b[1;33m.\u001b[0m\u001b[0m_data\u001b[0m\u001b[1;33m\u001b[0m\u001b[0m\n",
      "\u001b[1;32mC:\\Anaconda3\\lib\\site-packages\\pandas\\core\\reshape\\merge.py\u001b[0m in \u001b[0;36m_get_join_info\u001b[1;34m(self)\u001b[0m\n\u001b[0;32m    732\u001b[0m         \u001b[1;32melse\u001b[0m\u001b[1;33m:\u001b[0m\u001b[1;33m\u001b[0m\u001b[0m\n\u001b[0;32m    733\u001b[0m             (left_indexer,\n\u001b[1;32m--> 734\u001b[1;33m              right_indexer) = self._get_join_indexers()\n\u001b[0m\u001b[0;32m    735\u001b[0m \u001b[1;33m\u001b[0m\u001b[0m\n\u001b[0;32m    736\u001b[0m             \u001b[1;32mif\u001b[0m \u001b[0mself\u001b[0m\u001b[1;33m.\u001b[0m\u001b[0mright_index\u001b[0m\u001b[1;33m:\u001b[0m\u001b[1;33m\u001b[0m\u001b[0m\n",
      "\u001b[1;32mC:\\Anaconda3\\lib\\site-packages\\pandas\\core\\reshape\\merge.py\u001b[0m in \u001b[0;36m_get_join_indexers\u001b[1;34m(self)\u001b[0m\n\u001b[0;32m    711\u001b[0m                                   \u001b[0mself\u001b[0m\u001b[1;33m.\u001b[0m\u001b[0mright_join_keys\u001b[0m\u001b[1;33m,\u001b[0m\u001b[1;33m\u001b[0m\u001b[0m\n\u001b[0;32m    712\u001b[0m                                   \u001b[0msort\u001b[0m\u001b[1;33m=\u001b[0m\u001b[0mself\u001b[0m\u001b[1;33m.\u001b[0m\u001b[0msort\u001b[0m\u001b[1;33m,\u001b[0m\u001b[1;33m\u001b[0m\u001b[0m\n\u001b[1;32m--> 713\u001b[1;33m                                   how=self.how)\n\u001b[0m\u001b[0;32m    714\u001b[0m \u001b[1;33m\u001b[0m\u001b[0m\n\u001b[0;32m    715\u001b[0m     \u001b[1;32mdef\u001b[0m \u001b[0m_get_join_info\u001b[0m\u001b[1;33m(\u001b[0m\u001b[0mself\u001b[0m\u001b[1;33m)\u001b[0m\u001b[1;33m:\u001b[0m\u001b[1;33m\u001b[0m\u001b[0m\n",
      "\u001b[1;32mC:\\Anaconda3\\lib\\site-packages\\pandas\\core\\reshape\\merge.py\u001b[0m in \u001b[0;36m_get_join_indexers\u001b[1;34m(left_keys, right_keys, sort, how, **kwargs)\u001b[0m\n\u001b[0;32m    980\u001b[0m \u001b[1;33m\u001b[0m\u001b[0m\n\u001b[0;32m    981\u001b[0m     \u001b[1;31m# get left & right join labels and num. of levels at each location\u001b[0m\u001b[1;33m\u001b[0m\u001b[1;33m\u001b[0m\u001b[0m\n\u001b[1;32m--> 982\u001b[1;33m     \u001b[0mllab\u001b[0m\u001b[1;33m,\u001b[0m \u001b[0mrlab\u001b[0m\u001b[1;33m,\u001b[0m \u001b[0mshape\u001b[0m \u001b[1;33m=\u001b[0m \u001b[0mmap\u001b[0m\u001b[1;33m(\u001b[0m\u001b[0mlist\u001b[0m\u001b[1;33m,\u001b[0m \u001b[0mzip\u001b[0m\u001b[1;33m(\u001b[0m\u001b[1;33m*\u001b[0m \u001b[0mmap\u001b[0m\u001b[1;33m(\u001b[0m\u001b[0mfkeys\u001b[0m\u001b[1;33m,\u001b[0m \u001b[0mleft_keys\u001b[0m\u001b[1;33m,\u001b[0m \u001b[0mright_keys\u001b[0m\u001b[1;33m)\u001b[0m\u001b[1;33m)\u001b[0m\u001b[1;33m)\u001b[0m\u001b[1;33m\u001b[0m\u001b[0m\n\u001b[0m\u001b[0;32m    983\u001b[0m \u001b[1;33m\u001b[0m\u001b[0m\n\u001b[0;32m    984\u001b[0m     \u001b[1;31m# get flat i8 keys from label lists\u001b[0m\u001b[1;33m\u001b[0m\u001b[1;33m\u001b[0m\u001b[0m\n",
      "\u001b[1;32mC:\\Anaconda3\\lib\\site-packages\\pandas\\core\\reshape\\merge.py\u001b[0m in \u001b[0;36m_factorize_keys\u001b[1;34m(lk, rk, sort)\u001b[0m\n\u001b[0;32m   1404\u001b[0m \u001b[1;33m\u001b[0m\u001b[0m\n\u001b[0;32m   1405\u001b[0m     \u001b[0mllab\u001b[0m \u001b[1;33m=\u001b[0m \u001b[0mrizer\u001b[0m\u001b[1;33m.\u001b[0m\u001b[0mfactorize\u001b[0m\u001b[1;33m(\u001b[0m\u001b[0mlk\u001b[0m\u001b[1;33m)\u001b[0m\u001b[1;33m\u001b[0m\u001b[0m\n\u001b[1;32m-> 1406\u001b[1;33m     \u001b[0mrlab\u001b[0m \u001b[1;33m=\u001b[0m \u001b[0mrizer\u001b[0m\u001b[1;33m.\u001b[0m\u001b[0mfactorize\u001b[0m\u001b[1;33m(\u001b[0m\u001b[0mrk\u001b[0m\u001b[1;33m)\u001b[0m\u001b[1;33m\u001b[0m\u001b[0m\n\u001b[0m\u001b[0;32m   1407\u001b[0m \u001b[1;33m\u001b[0m\u001b[0m\n\u001b[0;32m   1408\u001b[0m     \u001b[0mcount\u001b[0m \u001b[1;33m=\u001b[0m \u001b[0mrizer\u001b[0m\u001b[1;33m.\u001b[0m\u001b[0mget_count\u001b[0m\u001b[1;33m(\u001b[0m\u001b[1;33m)\u001b[0m\u001b[1;33m\u001b[0m\u001b[0m\n",
      "\u001b[1;31mKeyboardInterrupt\u001b[0m: "
     ]
    }
   ],
   "source": [
    "sta_dict=statistic_features(train_dir,periods_train_dir,ac_dates,sta_cat_feat)"
   ]
  },
  {
   "cell_type": "code",
   "execution_count": 190,
   "metadata": {},
   "outputs": [
    {
     "data": {
      "text/plain": [
       "defaultdict(list, {})"
      ]
     },
     "execution_count": 190,
     "metadata": {},
     "output_type": "execute_result"
    }
   ],
   "source": [
    "sta_dict['region']['2017-03-22']"
   ]
  },
  {
   "cell_type": "code",
   "execution_count": 80,
   "metadata": {},
   "outputs": [],
   "source": [
    "ab=train.groupby(['city','parent_category_name'],as_index=False)['item_id'].count().sort_values(by='item_id',ascending=False)"
   ]
  },
  {
   "cell_type": "code",
   "execution_count": 97,
   "metadata": {},
   "outputs": [],
   "source": [
    "ac=[1,3,5]\n",
    "ac.append(np.nan)"
   ]
  },
  {
   "cell_type": "code",
   "execution_count": 105,
   "metadata": {},
   "outputs": [
    {
     "data": {
      "text/plain": [
       "3.0"
      ]
     },
     "execution_count": 105,
     "metadata": {},
     "output_type": "execute_result"
    }
   ],
   "source": [
    "np.mean([1,3,5])"
   ]
  },
  {
   "cell_type": "code",
   "execution_count": 102,
   "metadata": {},
   "outputs": [
    {
     "data": {
      "text/plain": [
       "nan"
      ]
     },
     "execution_count": 102,
     "metadata": {},
     "output_type": "execute_result"
    }
   ],
   "source": [
    "np.mean(ac)"
   ]
  },
  {
   "cell_type": "code",
   "execution_count": 114,
   "metadata": {},
   "outputs": [],
   "source": [
    "dt=pd.to_datetime(train['activation_date'])"
   ]
  },
  {
   "cell_type": "code",
   "execution_count": 83,
   "metadata": {},
   "outputs": [
    {
     "data": {
      "text/plain": [
       "6190"
      ]
     },
     "execution_count": 83,
     "metadata": {},
     "output_type": "execute_result"
    }
   ],
   "source": [
    "(ab['item_id']<10).sum()"
   ]
  },
  {
   "cell_type": "code",
   "execution_count": 57,
   "metadata": {},
   "outputs": [
    {
     "data": {
      "text/plain": [
       "Женская одежда                   226289\n",
       "Для девочек                      151979\n",
       "Для мальчиков                    117772\n",
       "Продам                           113764\n",
       "С пробегом                        61024\n",
       "Аксессуары                        38568\n",
       "Мужская одежда                    35716\n",
       "Другое                            27874\n",
       "Игрушки                           26442\n",
       "Детские коляски                   26248\n",
       "Сдам                              23535\n",
       "Ремонт, строительство             21444\n",
       "Стройматериалы                    20197\n",
       "iPhone                            18381\n",
       "Кровати, диваны и кресла          17419\n",
       "Инструменты                       15904\n",
       "Для кухни                         15721\n",
       "Комплектующие                     15085\n",
       "Детская мебель                    14251\n",
       "Шкафы и комоды                    11417\n",
       "Приборы и аксессуары              11200\n",
       "Для дома                          10064\n",
       "Транспорт, перевозки               9689\n",
       "Товары для кормления               8543\n",
       "Samsung                            8330\n",
       "Сниму                              8270\n",
       "Книги                              8081\n",
       "Телевизоры и проекторы             7729\n",
       "Велосипеды и самокаты              7195\n",
       "Предметы интерьера, искусство      7109\n",
       "                                  ...  \n",
       "Швейцарская овчарка                   8\n",
       "Panasonic                             7\n",
       "Бельгийская овчарка                   7\n",
       "Левретка                              7\n",
       "Миттельшнауцер                        7\n",
       "Американский бульдог                  6\n",
       "Сомалийская                           6\n",
       "Американский кёрл                     6\n",
       "Меконгский бобтейл                    6\n",
       "Пойнтер                               5\n",
       "Селкирк-рекс                          5\n",
       "Бельгийский гриффон                   4\n",
       "Шелти                                 4\n",
       "Эрдельтерьер                          4\n",
       "Норвич терьер                         4\n",
       "Леонбергер                            3\n",
       "Японский бобтейл                      3\n",
       "Вельштерьер                           3\n",
       "Бобтейл                               3\n",
       "Ирландский терьер                     3\n",
       "Манчкин                               2\n",
       "Скотч-терьер                          2\n",
       "Бурбуль                               2\n",
       "Керн терьер                           2\n",
       "Лхаса Апсо                            1\n",
       "SkyLink                               1\n",
       "Французская овчарка                   1\n",
       "Бриар                                 1\n",
       "Ла-перм лаперм                        1\n",
       "Уральский рекс                        1\n",
       "Name: param_1, Length: 371, dtype: int64"
      ]
     },
     "execution_count": 57,
     "metadata": {},
     "output_type": "execute_result"
    }
   ],
   "source": [
    "train['param_1'].value_counts()"
   ]
  },
  {
   "cell_type": "code",
   "execution_count": 55,
   "metadata": {},
   "outputs": [
    {
     "data": {
      "text/plain": [
       "('2017-03-15', '2017-03-28')"
      ]
     },
     "execution_count": 55,
     "metadata": {},
     "output_type": "execute_result"
    }
   ],
   "source": [
    "periods_train['date_to'].min(),periods_train['date_to'].max()"
   ]
  },
  {
   "cell_type": "code",
   "execution_count": 46,
   "metadata": {},
   "outputs": [
    {
     "data": {
      "text/plain": [
       "('2017-03-15', '2017-03-28')"
      ]
     },
     "execution_count": 46,
     "metadata": {},
     "output_type": "execute_result"
    }
   ],
   "source": [
    "periods_train['date_from'].min(),periods_train['date_from'].max()"
   ]
  },
  {
   "cell_type": "code",
   "execution_count": 48,
   "metadata": {},
   "outputs": [
    {
     "data": {
      "text/plain": [
       "('2017-03-15', '2017-04-07')"
      ]
     },
     "execution_count": 48,
     "metadata": {},
     "output_type": "execute_result"
    }
   ],
   "source": [
    "train['activation_date'].min(),train['activation_date'].max()"
   ]
  },
  {
   "cell_type": "code",
   "execution_count": 53,
   "metadata": {},
   "outputs": [
    {
     "data": {
      "text/plain": [
       "('2017-04-12', '2017-04-20')"
      ]
     },
     "execution_count": 53,
     "metadata": {},
     "output_type": "execute_result"
    }
   ],
   "source": [
    "test['activation_date'].min(),test['activation_date'].max()"
   ]
  },
  {
   "cell_type": "code",
   "execution_count": 5,
   "metadata": {},
   "outputs": [
    {
     "data": {
      "text/html": [
       "<div>\n",
       "<style>\n",
       "    .dataframe thead tr:only-child th {\n",
       "        text-align: right;\n",
       "    }\n",
       "\n",
       "    .dataframe thead th {\n",
       "        text-align: left;\n",
       "    }\n",
       "\n",
       "    .dataframe tbody tr th {\n",
       "        vertical-align: top;\n",
       "    }\n",
       "</style>\n",
       "<table border=\"1\" class=\"dataframe\">\n",
       "  <thead>\n",
       "    <tr style=\"text-align: right;\">\n",
       "      <th></th>\n",
       "      <th>item_id</th>\n",
       "      <th>user_id</th>\n",
       "      <th>region</th>\n",
       "      <th>city</th>\n",
       "      <th>parent_category_name</th>\n",
       "      <th>category_name</th>\n",
       "      <th>param_1</th>\n",
       "      <th>param_2</th>\n",
       "      <th>param_3</th>\n",
       "      <th>title</th>\n",
       "      <th>description</th>\n",
       "      <th>price</th>\n",
       "      <th>item_seq_number</th>\n",
       "      <th>activation_date</th>\n",
       "      <th>user_type</th>\n",
       "      <th>image</th>\n",
       "      <th>image_top_1</th>\n",
       "      <th>deal_probability</th>\n",
       "    </tr>\n",
       "  </thead>\n",
       "  <tbody>\n",
       "    <tr>\n",
       "      <th>0</th>\n",
       "      <td>b912c3c6a6ad</td>\n",
       "      <td>e00f8ff2eaf9</td>\n",
       "      <td>Свердловская область</td>\n",
       "      <td>Екатеринбург</td>\n",
       "      <td>Личные вещи</td>\n",
       "      <td>Товары для детей и игрушки</td>\n",
       "      <td>Постельные принадлежности</td>\n",
       "      <td>NaN</td>\n",
       "      <td>NaN</td>\n",
       "      <td>Кокоби(кокон для сна)</td>\n",
       "      <td>Кокон для сна малыша,пользовались меньше месяц...</td>\n",
       "      <td>400.0</td>\n",
       "      <td>2</td>\n",
       "      <td>2017-03-28</td>\n",
       "      <td>Private</td>\n",
       "      <td>d10c7e016e03247a3bf2d13348fe959fe6f436c1caf64c...</td>\n",
       "      <td>1008.0</td>\n",
       "      <td>0.12789</td>\n",
       "    </tr>\n",
       "    <tr>\n",
       "      <th>1</th>\n",
       "      <td>2dac0150717d</td>\n",
       "      <td>39aeb48f0017</td>\n",
       "      <td>Самарская область</td>\n",
       "      <td>Самара</td>\n",
       "      <td>Для дома и дачи</td>\n",
       "      <td>Мебель и интерьер</td>\n",
       "      <td>Другое</td>\n",
       "      <td>NaN</td>\n",
       "      <td>NaN</td>\n",
       "      <td>Стойка для Одежды</td>\n",
       "      <td>Стойка для одежды, под вешалки. С бутика.</td>\n",
       "      <td>3000.0</td>\n",
       "      <td>19</td>\n",
       "      <td>2017-03-26</td>\n",
       "      <td>Private</td>\n",
       "      <td>79c9392cc51a9c81c6eb91eceb8e552171db39d7142700...</td>\n",
       "      <td>692.0</td>\n",
       "      <td>0.00000</td>\n",
       "    </tr>\n",
       "    <tr>\n",
       "      <th>2</th>\n",
       "      <td>ba83aefab5dc</td>\n",
       "      <td>91e2f88dd6e3</td>\n",
       "      <td>Ростовская область</td>\n",
       "      <td>Ростов-на-Дону</td>\n",
       "      <td>Бытовая электроника</td>\n",
       "      <td>Аудио и видео</td>\n",
       "      <td>Видео, DVD и Blu-ray плееры</td>\n",
       "      <td>NaN</td>\n",
       "      <td>NaN</td>\n",
       "      <td>Philips bluray</td>\n",
       "      <td>В хорошем состоянии, домашний кинотеатр с blu ...</td>\n",
       "      <td>4000.0</td>\n",
       "      <td>9</td>\n",
       "      <td>2017-03-20</td>\n",
       "      <td>Private</td>\n",
       "      <td>b7f250ee3f39e1fedd77c141f273703f4a9be59db4b48a...</td>\n",
       "      <td>3032.0</td>\n",
       "      <td>0.43177</td>\n",
       "    </tr>\n",
       "  </tbody>\n",
       "</table>\n",
       "</div>"
      ],
      "text/plain": [
       "        item_id       user_id                region            city  \\\n",
       "0  b912c3c6a6ad  e00f8ff2eaf9  Свердловская область    Екатеринбург   \n",
       "1  2dac0150717d  39aeb48f0017     Самарская область          Самара   \n",
       "2  ba83aefab5dc  91e2f88dd6e3    Ростовская область  Ростов-на-Дону   \n",
       "\n",
       "  parent_category_name               category_name  \\\n",
       "0          Личные вещи  Товары для детей и игрушки   \n",
       "1      Для дома и дачи           Мебель и интерьер   \n",
       "2  Бытовая электроника               Аудио и видео   \n",
       "\n",
       "                       param_1 param_2 param_3                  title  \\\n",
       "0    Постельные принадлежности     NaN     NaN  Кокоби(кокон для сна)   \n",
       "1                       Другое     NaN     NaN      Стойка для Одежды   \n",
       "2  Видео, DVD и Blu-ray плееры     NaN     NaN         Philips bluray   \n",
       "\n",
       "                                         description   price  item_seq_number  \\\n",
       "0  Кокон для сна малыша,пользовались меньше месяц...   400.0                2   \n",
       "1          Стойка для одежды, под вешалки. С бутика.  3000.0               19   \n",
       "2  В хорошем состоянии, домашний кинотеатр с blu ...  4000.0                9   \n",
       "\n",
       "  activation_date user_type  \\\n",
       "0      2017-03-28   Private   \n",
       "1      2017-03-26   Private   \n",
       "2      2017-03-20   Private   \n",
       "\n",
       "                                               image  image_top_1  \\\n",
       "0  d10c7e016e03247a3bf2d13348fe959fe6f436c1caf64c...       1008.0   \n",
       "1  79c9392cc51a9c81c6eb91eceb8e552171db39d7142700...        692.0   \n",
       "2  b7f250ee3f39e1fedd77c141f273703f4a9be59db4b48a...       3032.0   \n",
       "\n",
       "   deal_probability  \n",
       "0           0.12789  \n",
       "1           0.00000  \n",
       "2           0.43177  "
      ]
     },
     "execution_count": 5,
     "metadata": {},
     "output_type": "execute_result"
    }
   ],
   "source": [
    "train.head(3)"
   ]
  },
  {
   "cell_type": "code",
   "execution_count": null,
   "metadata": {
    "collapsed": true
   },
   "outputs": [],
   "source": [
    "# 针对训练集和测试集中每一个item_id,统计其激活日期当天同类别下正在展示的广告数量和均价，及该广告价格与均价的比值"
   ]
  },
  {
   "cell_type": "code",
   "execution_count": null,
   "metadata": {
    "collapsed": true
   },
   "outputs": [],
   "source": [
    "def stat_item_num_and_price(active_file):\n",
    "    seed_data=pd.read_csv(seed_file)\n",
    "    period_data=pd.read_csv(period_file)\n",
    "    "
   ]
  },
  {
   "cell_type": "code",
   "execution_count": 56,
   "metadata": {},
   "outputs": [
    {
     "data": {
      "text/plain": [
       "2017-03-20    115190\n",
       "2017-03-27    114863\n",
       "2017-03-19    114416\n",
       "2017-03-26    113513\n",
       "2017-03-28    112885\n",
       "2017-03-21    110535\n",
       "2017-03-22    109813\n",
       "2017-03-15    108615\n",
       "2017-03-23    106544\n",
       "2017-03-16    106168\n",
       "2017-03-17     98773\n",
       "2017-03-18     97554\n",
       "2017-03-24     97351\n",
       "2017-03-25     97104\n",
       "2017-03-29        87\n",
       "2017-03-30         3\n",
       "2017-04-01         3\n",
       "2017-04-02         3\n",
       "2017-04-03         2\n",
       "2017-04-07         1\n",
       "2017-03-31         1\n",
       "Name: activation_date, dtype: int64"
      ]
     },
     "execution_count": 56,
     "metadata": {},
     "output_type": "execute_result"
    }
   ],
   "source": [
    "train['activation_date'].value_counts()"
   ]
  },
  {
   "cell_type": "code",
   "execution_count": 31,
   "metadata": {},
   "outputs": [
    {
     "name": "stdout",
     "output_type": "stream",
     "text": [
      "<class 'pandas.core.frame.DataFrame'>\n",
      "RangeIndex: 1503424 entries, 0 to 1503423\n",
      "Data columns (total 8 columns):\n",
      "city                    1503424 non-null object\n",
      "param_1                 1441848 non-null object\n",
      "image_top_1             1390836 non-null float64\n",
      "param_3                 640859 non-null object\n",
      "param_2                 848882 non-null object\n",
      "category_name           1503424 non-null object\n",
      "region                  1503424 non-null object\n",
      "parent_category_name    1503424 non-null object\n",
      "dtypes: float64(1), object(7)\n",
      "memory usage: 91.8+ MB\n"
     ]
    }
   ],
   "source": [
    "train[agg_cat].info()"
   ]
  },
  {
   "cell_type": "code",
   "execution_count": 32,
   "metadata": {},
   "outputs": [
    {
     "data": {
      "text/plain": [
       "Платье                                                15550\n",
       "Туфли                                                  6334\n",
       "Куртка                                                 6331\n",
       "Пальто                                                 5251\n",
       "Джинсы                                                 4758\n",
       "Комбинезон                                             4506\n",
       "Кроссовки                                              3196\n",
       "Костюм                                                 2916\n",
       "Ботинки                                                2876\n",
       "Босоножки                                              2760\n",
       "Юбка                                                   2722\n",
       "Кофта                                                  2721\n",
       "Ветровка                                               2432\n",
       "Сниму 1-к квартиру                                     2379\n",
       "Сапоги                                                 2191\n",
       "Свадебное платье                                       2183\n",
       "Рубашка                                                1903\n",
       "Сумка                                                  1869\n",
       "Коляска                                                1738\n",
       "Блузка                                                 1673\n",
       "Сандали                                                1667\n",
       "Диван                                                  1637\n",
       "Брюки                                                  1623\n",
       "Плащ                                                   1563\n",
       "Ботильоны                                              1523\n",
       "Велосипед                                              1496\n",
       "Участок 10 сот. (ИЖС)                                  1489\n",
       "Кеды                                                   1403\n",
       "Куртка демисезонная                                    1350\n",
       "Сниму дом                                              1339\n",
       "                                                      ...  \n",
       "Аккумулятор для шуруповерта Bosch Li-Ion 10.8B 1,5        1\n",
       "Сапоги резиновые г.Псков-Россия-43р                       1\n",
       "3-к квартира, 103.2 м², 5/10 эт.                          1\n",
       "Сайт \"под ключ\". Услуги по созданию, продвижению          1\n",
       "Дом 259 м² на участке 7 сот.                              1\n",
       "Изготовление промо кружек                                 1\n",
       "Продается кресло-жезлонг                                  1\n",
       "Неисправная Видеокарта MSI nvidia GeForce GT 640          1\n",
       "Сумка женская, кожа и замша                               1\n",
       "Wi-fi модуль USB                                          1\n",
       "Демисезонные замшевые ботиночки                           1\n",
       "Лекгая кофточка                                           1\n",
       "Натяжные потолки в Туле и Области                         1\n",
       "Стульчик-качелии Unico. В наличии                         1\n",
       "Н.Н. Равенский \"Как читать человека\" книга                1\n",
       "Носки 5 шт                                                1\n",
       "Газовая тепловая пушка парма тпг-30                       1\n",
       "Террасная доска от производителя                          1\n",
       "Современное Селфи-кольцо и монопод в Подарок!             1\n",
       "Телефон Samsung Galaxy S5 mini                            1\n",
       "Прицеп легковой 1992 года                                 1\n",
       "Д/с костюм на мальчика                                    1\n",
       "Материал: Стальная труба диаметром 10, 16, 30 мм;         1\n",
       "Продам селфи-палку                                        1\n",
       "Прицеп коневоз titan                                      1\n",
       "Бензиновый генератор huter 1 квт                          1\n",
       "Сдам в аренду спецтехнику, и легковой транспорт           1\n",
       "Классные джинсы р.29                                      1\n",
       "Акустический кабель Oehlbach XXL(3m)                      1\n",
       "iPad 4 lte                                                1\n",
       "Name: title, Length: 788377, dtype: int64"
      ]
     },
     "execution_count": 32,
     "metadata": {},
     "output_type": "execute_result"
    }
   ],
   "source": [
    "train['title'].value_counts()"
   ]
  },
  {
   "cell_type": "code",
   "execution_count": 7,
   "metadata": {},
   "outputs": [
    {
     "data": {
      "text/html": [
       "<div>\n",
       "<style>\n",
       "    .dataframe thead tr:only-child th {\n",
       "        text-align: right;\n",
       "    }\n",
       "\n",
       "    .dataframe thead th {\n",
       "        text-align: left;\n",
       "    }\n",
       "\n",
       "    .dataframe tbody tr th {\n",
       "        vertical-align: top;\n",
       "    }\n",
       "</style>\n",
       "<table border=\"1\" class=\"dataframe\">\n",
       "  <thead>\n",
       "    <tr style=\"text-align: right;\">\n",
       "      <th></th>\n",
       "      <th>item_id</th>\n",
       "      <th>activation_date</th>\n",
       "      <th>date_from</th>\n",
       "      <th>date_to</th>\n",
       "    </tr>\n",
       "  </thead>\n",
       "  <tbody>\n",
       "    <tr>\n",
       "      <th>0</th>\n",
       "      <td>8f5caef7afb0</td>\n",
       "      <td>2017-02-14</td>\n",
       "      <td>2017-03-15</td>\n",
       "      <td>2017-03-16</td>\n",
       "    </tr>\n",
       "    <tr>\n",
       "      <th>1</th>\n",
       "      <td>66218ff526d1</td>\n",
       "      <td>2017-02-16</td>\n",
       "      <td>2017-03-15</td>\n",
       "      <td>2017-03-18</td>\n",
       "    </tr>\n",
       "    <tr>\n",
       "      <th>2</th>\n",
       "      <td>b237d9539b21</td>\n",
       "      <td>2017-03-01</td>\n",
       "      <td>2017-03-15</td>\n",
       "      <td>2017-03-28</td>\n",
       "    </tr>\n",
       "  </tbody>\n",
       "</table>\n",
       "</div>"
      ],
      "text/plain": [
       "        item_id activation_date   date_from     date_to\n",
       "0  8f5caef7afb0      2017-02-14  2017-03-15  2017-03-16\n",
       "1  66218ff526d1      2017-02-16  2017-03-15  2017-03-18\n",
       "2  b237d9539b21      2017-03-01  2017-03-15  2017-03-28"
      ]
     },
     "execution_count": 7,
     "metadata": {},
     "output_type": "execute_result"
    }
   ],
   "source": [
    "periods_train.head(3)"
   ]
  },
  {
   "cell_type": "code",
   "execution_count": null,
   "metadata": {
    "collapsed": true
   },
   "outputs": [],
   "source": []
  }
 ],
 "metadata": {
  "kernelspec": {
   "display_name": "Python 3",
   "language": "python",
   "name": "python3"
  },
  "language_info": {
   "codemirror_mode": {
    "name": "ipython",
    "version": 3
   },
   "file_extension": ".py",
   "mimetype": "text/x-python",
   "name": "python",
   "nbconvert_exporter": "python",
   "pygments_lexer": "ipython3",
   "version": "3.6.2"
  }
 },
 "nbformat": 4,
 "nbformat_minor": 2
}
