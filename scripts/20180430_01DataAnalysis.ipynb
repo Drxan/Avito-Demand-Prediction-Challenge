{
 "cells": [
  {
   "cell_type": "code",
   "execution_count": 1,
   "metadata": {},
   "outputs": [
    {
     "name": "stderr",
     "output_type": "stream",
     "text": [
      "Using TensorFlow backend.\n"
     ]
    }
   ],
   "source": [
    "import numpy as np\n",
    "import pandas as pd\n",
    "from keras.preprocessing import sequence\n",
    "from string import punctuation as en_punctuation\n",
    "import re\n",
    "from collections import Counter\n",
    "from nltk.corpus import stopwords\n",
    "from collections import defaultdict\n",
    "from sklearn.feature_extraction.text import TfidfVectorizer\n",
    "import gensim\n",
    "from sklearn.decomposition import TruncatedSVD\n",
    "from scipy.sparse import issparse\n",
    "import seaborn as sns\n",
    "import matplotlib.pyplot as plt\n",
    "%matplotlib inline"
   ]
  },
  {
   "cell_type": "code",
   "execution_count": 3,
   "metadata": {
    "collapsed": true
   },
   "outputs": [],
   "source": [
    "periods_train_dir = r'/home/yw/study/Competition/Avito-Demand-Prediction-Challenge/data/periods_train.csv'\n",
    "periods_test_dir = r'/home/yw/study/Competition/Avito-Demand-Prediction-Challenge/data/periods_test.csv'\n",
    "train_active_dir = r'/home/yw/study/Competition/Avito-Demand-Prediction-Challenge/data/train_active.csv'\n",
    "test_active_dir = r'/home/yw/study/Competition/Avito-Demand-Prediction-Challenge/data/test_active.csv'\n",
    "train_dir = r'/home/yw/study/Competition/Avito-Demand-Prediction-Challenge/data/train.csv'\n",
    "test_dir = r'/home/yw/study/Competition/Avito-Demand-Prediction-Challenge/data/test.csv'"
   ]
  },
  {
   "cell_type": "code",
   "execution_count": 4,
   "metadata": {
    "collapsed": true
   },
   "outputs": [],
   "source": [
    "train=pd.read_csv(train_dir)"
   ]
  },
  {
   "cell_type": "code",
   "execution_count": 6,
   "metadata": {
    "collapsed": true
   },
   "outputs": [],
   "source": [
    "periods_train = pd.read_csv(periods_train_dir)"
   ]
  },
  {
   "cell_type": "code",
   "execution_count": 36,
   "metadata": {},
   "outputs": [
    {
     "data": {
      "text/html": [
       "<div>\n",
       "<style>\n",
       "    .dataframe thead tr:only-child th {\n",
       "        text-align: right;\n",
       "    }\n",
       "\n",
       "    .dataframe thead th {\n",
       "        text-align: left;\n",
       "    }\n",
       "\n",
       "    .dataframe tbody tr th {\n",
       "        vertical-align: top;\n",
       "    }\n",
       "</style>\n",
       "<table border=\"1\" class=\"dataframe\">\n",
       "  <thead>\n",
       "    <tr style=\"text-align: right;\">\n",
       "      <th></th>\n",
       "      <th>item_id</th>\n",
       "      <th>activation_date</th>\n",
       "      <th>date_from</th>\n",
       "      <th>date_to</th>\n",
       "    </tr>\n",
       "  </thead>\n",
       "  <tbody>\n",
       "    <tr>\n",
       "      <th>0</th>\n",
       "      <td>8f5caef7afb0</td>\n",
       "      <td>2017-02-14</td>\n",
       "      <td>2017-03-15</td>\n",
       "      <td>2017-03-16</td>\n",
       "    </tr>\n",
       "    <tr>\n",
       "      <th>1</th>\n",
       "      <td>66218ff526d1</td>\n",
       "      <td>2017-02-16</td>\n",
       "      <td>2017-03-15</td>\n",
       "      <td>2017-03-18</td>\n",
       "    </tr>\n",
       "    <tr>\n",
       "      <th>2</th>\n",
       "      <td>b237d9539b21</td>\n",
       "      <td>2017-03-01</td>\n",
       "      <td>2017-03-15</td>\n",
       "      <td>2017-03-28</td>\n",
       "    </tr>\n",
       "    <tr>\n",
       "      <th>3</th>\n",
       "      <td>80bf58082ad3</td>\n",
       "      <td>2017-03-19</td>\n",
       "      <td>2017-03-19</td>\n",
       "      <td>2017-03-28</td>\n",
       "    </tr>\n",
       "    <tr>\n",
       "      <th>4</th>\n",
       "      <td>67a9944a7373</td>\n",
       "      <td>2017-03-14</td>\n",
       "      <td>2017-03-15</td>\n",
       "      <td>2017-03-28</td>\n",
       "    </tr>\n",
       "    <tr>\n",
       "      <th>5</th>\n",
       "      <td>47081d25b7cb</td>\n",
       "      <td>2017-02-19</td>\n",
       "      <td>2017-03-15</td>\n",
       "      <td>2017-03-20</td>\n",
       "    </tr>\n",
       "    <tr>\n",
       "      <th>6</th>\n",
       "      <td>5a328b4a8be1</td>\n",
       "      <td>2017-02-20</td>\n",
       "      <td>2017-03-15</td>\n",
       "      <td>2017-03-21</td>\n",
       "    </tr>\n",
       "    <tr>\n",
       "      <th>7</th>\n",
       "      <td>87292b76e4e1</td>\n",
       "      <td>2017-03-17</td>\n",
       "      <td>2017-03-17</td>\n",
       "      <td>2017-03-28</td>\n",
       "    </tr>\n",
       "    <tr>\n",
       "      <th>8</th>\n",
       "      <td>2ccefc8a940b</td>\n",
       "      <td>2017-02-19</td>\n",
       "      <td>2017-03-15</td>\n",
       "      <td>2017-03-21</td>\n",
       "    </tr>\n",
       "    <tr>\n",
       "      <th>9</th>\n",
       "      <td>ded64e61cd85</td>\n",
       "      <td>2017-03-13</td>\n",
       "      <td>2017-03-15</td>\n",
       "      <td>2017-03-28</td>\n",
       "    </tr>\n",
       "  </tbody>\n",
       "</table>\n",
       "</div>"
      ],
      "text/plain": [
       "        item_id activation_date   date_from     date_to\n",
       "0  8f5caef7afb0      2017-02-14  2017-03-15  2017-03-16\n",
       "1  66218ff526d1      2017-02-16  2017-03-15  2017-03-18\n",
       "2  b237d9539b21      2017-03-01  2017-03-15  2017-03-28\n",
       "3  80bf58082ad3      2017-03-19  2017-03-19  2017-03-28\n",
       "4  67a9944a7373      2017-03-14  2017-03-15  2017-03-28\n",
       "5  47081d25b7cb      2017-02-19  2017-03-15  2017-03-20\n",
       "6  5a328b4a8be1      2017-02-20  2017-03-15  2017-03-21\n",
       "7  87292b76e4e1      2017-03-17  2017-03-17  2017-03-28\n",
       "8  2ccefc8a940b      2017-02-19  2017-03-15  2017-03-21\n",
       "9  ded64e61cd85      2017-03-13  2017-03-15  2017-03-28"
      ]
     },
     "execution_count": 36,
     "metadata": {},
     "output_type": "execute_result"
    }
   ],
   "source": [
    "periods_train.head(10)"
   ]
  },
  {
   "cell_type": "code",
   "execution_count": 14,
   "metadata": {},
   "outputs": [
    {
     "name": "stdout",
     "output_type": "stream",
     "text": [
      "<class 'pandas.core.frame.DataFrame'>\n",
      "RangeIndex: 1503424 entries, 0 to 1503423\n",
      "Data columns (total 18 columns):\n",
      "item_id                 1503424 non-null object\n",
      "user_id                 1503424 non-null object\n",
      "region                  1503424 non-null object\n",
      "city                    1503424 non-null object\n",
      "parent_category_name    1503424 non-null object\n",
      "category_name           1503424 non-null object\n",
      "param_1                 1441848 non-null object\n",
      "param_2                 848882 non-null object\n",
      "param_3                 640859 non-null object\n",
      "title                   1503424 non-null object\n",
      "description             1387148 non-null object\n",
      "price                   1418062 non-null float64\n",
      "item_seq_number         1503424 non-null int64\n",
      "activation_date         1503424 non-null object\n",
      "user_type               1503424 non-null object\n",
      "image                   1390836 non-null object\n",
      "image_top_1             1390836 non-null float64\n",
      "deal_probability        1503424 non-null float64\n",
      "dtypes: float64(3), int64(1), object(14)\n",
      "memory usage: 206.5+ MB\n"
     ]
    }
   ],
   "source": [
    "train.info()"
   ]
  },
  {
   "cell_type": "code",
   "execution_count": 5,
   "metadata": {},
   "outputs": [
    {
     "data": {
      "text/html": [
       "<div>\n",
       "<style>\n",
       "    .dataframe thead tr:only-child th {\n",
       "        text-align: right;\n",
       "    }\n",
       "\n",
       "    .dataframe thead th {\n",
       "        text-align: left;\n",
       "    }\n",
       "\n",
       "    .dataframe tbody tr th {\n",
       "        vertical-align: top;\n",
       "    }\n",
       "</style>\n",
       "<table border=\"1\" class=\"dataframe\">\n",
       "  <thead>\n",
       "    <tr style=\"text-align: right;\">\n",
       "      <th></th>\n",
       "      <th>item_id</th>\n",
       "      <th>user_id</th>\n",
       "      <th>region</th>\n",
       "      <th>city</th>\n",
       "      <th>parent_category_name</th>\n",
       "      <th>category_name</th>\n",
       "      <th>param_1</th>\n",
       "      <th>param_2</th>\n",
       "      <th>param_3</th>\n",
       "      <th>title</th>\n",
       "      <th>description</th>\n",
       "      <th>price</th>\n",
       "      <th>item_seq_number</th>\n",
       "      <th>activation_date</th>\n",
       "      <th>user_type</th>\n",
       "      <th>image</th>\n",
       "      <th>image_top_1</th>\n",
       "      <th>deal_probability</th>\n",
       "    </tr>\n",
       "  </thead>\n",
       "  <tbody>\n",
       "    <tr>\n",
       "      <th>0</th>\n",
       "      <td>b912c3c6a6ad</td>\n",
       "      <td>e00f8ff2eaf9</td>\n",
       "      <td>Свердловская область</td>\n",
       "      <td>Екатеринбург</td>\n",
       "      <td>Личные вещи</td>\n",
       "      <td>Товары для детей и игрушки</td>\n",
       "      <td>Постельные принадлежности</td>\n",
       "      <td>NaN</td>\n",
       "      <td>NaN</td>\n",
       "      <td>Кокоби(кокон для сна)</td>\n",
       "      <td>Кокон для сна малыша,пользовались меньше месяц...</td>\n",
       "      <td>400.0</td>\n",
       "      <td>2</td>\n",
       "      <td>2017-03-28</td>\n",
       "      <td>Private</td>\n",
       "      <td>d10c7e016e03247a3bf2d13348fe959fe6f436c1caf64c...</td>\n",
       "      <td>1008.0</td>\n",
       "      <td>0.12789</td>\n",
       "    </tr>\n",
       "    <tr>\n",
       "      <th>1</th>\n",
       "      <td>2dac0150717d</td>\n",
       "      <td>39aeb48f0017</td>\n",
       "      <td>Самарская область</td>\n",
       "      <td>Самара</td>\n",
       "      <td>Для дома и дачи</td>\n",
       "      <td>Мебель и интерьер</td>\n",
       "      <td>Другое</td>\n",
       "      <td>NaN</td>\n",
       "      <td>NaN</td>\n",
       "      <td>Стойка для Одежды</td>\n",
       "      <td>Стойка для одежды, под вешалки. С бутика.</td>\n",
       "      <td>3000.0</td>\n",
       "      <td>19</td>\n",
       "      <td>2017-03-26</td>\n",
       "      <td>Private</td>\n",
       "      <td>79c9392cc51a9c81c6eb91eceb8e552171db39d7142700...</td>\n",
       "      <td>692.0</td>\n",
       "      <td>0.00000</td>\n",
       "    </tr>\n",
       "    <tr>\n",
       "      <th>2</th>\n",
       "      <td>ba83aefab5dc</td>\n",
       "      <td>91e2f88dd6e3</td>\n",
       "      <td>Ростовская область</td>\n",
       "      <td>Ростов-на-Дону</td>\n",
       "      <td>Бытовая электроника</td>\n",
       "      <td>Аудио и видео</td>\n",
       "      <td>Видео, DVD и Blu-ray плееры</td>\n",
       "      <td>NaN</td>\n",
       "      <td>NaN</td>\n",
       "      <td>Philips bluray</td>\n",
       "      <td>В хорошем состоянии, домашний кинотеатр с blu ...</td>\n",
       "      <td>4000.0</td>\n",
       "      <td>9</td>\n",
       "      <td>2017-03-20</td>\n",
       "      <td>Private</td>\n",
       "      <td>b7f250ee3f39e1fedd77c141f273703f4a9be59db4b48a...</td>\n",
       "      <td>3032.0</td>\n",
       "      <td>0.43177</td>\n",
       "    </tr>\n",
       "  </tbody>\n",
       "</table>\n",
       "</div>"
      ],
      "text/plain": [
       "        item_id       user_id                region            city  \\\n",
       "0  b912c3c6a6ad  e00f8ff2eaf9  Свердловская область    Екатеринбург   \n",
       "1  2dac0150717d  39aeb48f0017     Самарская область          Самара   \n",
       "2  ba83aefab5dc  91e2f88dd6e3    Ростовская область  Ростов-на-Дону   \n",
       "\n",
       "  parent_category_name               category_name  \\\n",
       "0          Личные вещи  Товары для детей и игрушки   \n",
       "1      Для дома и дачи           Мебель и интерьер   \n",
       "2  Бытовая электроника               Аудио и видео   \n",
       "\n",
       "                       param_1 param_2 param_3                  title  \\\n",
       "0    Постельные принадлежности     NaN     NaN  Кокоби(кокон для сна)   \n",
       "1                       Другое     NaN     NaN      Стойка для Одежды   \n",
       "2  Видео, DVD и Blu-ray плееры     NaN     NaN         Philips bluray   \n",
       "\n",
       "                                         description   price  item_seq_number  \\\n",
       "0  Кокон для сна малыша,пользовались меньше месяц...   400.0                2   \n",
       "1          Стойка для одежды, под вешалки. С бутика.  3000.0               19   \n",
       "2  В хорошем состоянии, домашний кинотеатр с blu ...  4000.0                9   \n",
       "\n",
       "  activation_date user_type  \\\n",
       "0      2017-03-28   Private   \n",
       "1      2017-03-26   Private   \n",
       "2      2017-03-20   Private   \n",
       "\n",
       "                                               image  image_top_1  \\\n",
       "0  d10c7e016e03247a3bf2d13348fe959fe6f436c1caf64c...       1008.0   \n",
       "1  79c9392cc51a9c81c6eb91eceb8e552171db39d7142700...        692.0   \n",
       "2  b7f250ee3f39e1fedd77c141f273703f4a9be59db4b48a...       3032.0   \n",
       "\n",
       "   deal_probability  \n",
       "0           0.12789  \n",
       "1           0.00000  \n",
       "2           0.43177  "
      ]
     },
     "execution_count": 5,
     "metadata": {},
     "output_type": "execute_result"
    }
   ],
   "source": [
    "train.head(3)"
   ]
  },
  {
   "cell_type": "code",
   "execution_count": null,
   "metadata": {
    "collapsed": true
   },
   "outputs": [],
   "source": [
    "# 针对训练集和测试集中每一个item_id,统计其激活日期当天同类别下正在展示的广告数量和均价，及该广告价格与均价的比值"
   ]
  },
  {
   "cell_type": "code",
   "execution_count": null,
   "metadata": {
    "collapsed": true
   },
   "outputs": [],
   "source": [
    "def stat_item_num_and_price(active_file):\n",
    "    seed_data=pd.read_csv(seed_file)\n",
    "    period_data=pd.read_csv(period_file)\n",
    "    "
   ]
  },
  {
   "cell_type": "code",
   "execution_count": 38,
   "metadata": {},
   "outputs": [
    {
     "data": {
      "text/plain": [
       "False"
      ]
     },
     "execution_count": 38,
     "metadata": {},
     "output_type": "execute_result"
    }
   ],
   "source": [
    "train['activation_date'][0]>'2017-03-29'"
   ]
  },
  {
   "cell_type": "code",
   "execution_count": 30,
   "metadata": {
    "collapsed": true
   },
   "outputs": [],
   "source": [
    "agg_cat=['city','param_1','image_top_1','param_3','param_2','category_name','region','parent_category_name','activation_date']"
   ]
  },
  {
   "cell_type": "code",
   "execution_count": 31,
   "metadata": {},
   "outputs": [
    {
     "name": "stdout",
     "output_type": "stream",
     "text": [
      "<class 'pandas.core.frame.DataFrame'>\n",
      "RangeIndex: 1503424 entries, 0 to 1503423\n",
      "Data columns (total 8 columns):\n",
      "city                    1503424 non-null object\n",
      "param_1                 1441848 non-null object\n",
      "image_top_1             1390836 non-null float64\n",
      "param_3                 640859 non-null object\n",
      "param_2                 848882 non-null object\n",
      "category_name           1503424 non-null object\n",
      "region                  1503424 non-null object\n",
      "parent_category_name    1503424 non-null object\n",
      "dtypes: float64(1), object(7)\n",
      "memory usage: 91.8+ MB\n"
     ]
    }
   ],
   "source": [
    "train[agg_cat].info()"
   ]
  },
  {
   "cell_type": "code",
   "execution_count": 32,
   "metadata": {},
   "outputs": [
    {
     "data": {
      "text/plain": [
       "Платье                                                15550\n",
       "Туфли                                                  6334\n",
       "Куртка                                                 6331\n",
       "Пальто                                                 5251\n",
       "Джинсы                                                 4758\n",
       "Комбинезон                                             4506\n",
       "Кроссовки                                              3196\n",
       "Костюм                                                 2916\n",
       "Ботинки                                                2876\n",
       "Босоножки                                              2760\n",
       "Юбка                                                   2722\n",
       "Кофта                                                  2721\n",
       "Ветровка                                               2432\n",
       "Сниму 1-к квартиру                                     2379\n",
       "Сапоги                                                 2191\n",
       "Свадебное платье                                       2183\n",
       "Рубашка                                                1903\n",
       "Сумка                                                  1869\n",
       "Коляска                                                1738\n",
       "Блузка                                                 1673\n",
       "Сандали                                                1667\n",
       "Диван                                                  1637\n",
       "Брюки                                                  1623\n",
       "Плащ                                                   1563\n",
       "Ботильоны                                              1523\n",
       "Велосипед                                              1496\n",
       "Участок 10 сот. (ИЖС)                                  1489\n",
       "Кеды                                                   1403\n",
       "Куртка демисезонная                                    1350\n",
       "Сниму дом                                              1339\n",
       "                                                      ...  \n",
       "Аккумулятор для шуруповерта Bosch Li-Ion 10.8B 1,5        1\n",
       "Сапоги резиновые г.Псков-Россия-43р                       1\n",
       "3-к квартира, 103.2 м², 5/10 эт.                          1\n",
       "Сайт \"под ключ\". Услуги по созданию, продвижению          1\n",
       "Дом 259 м² на участке 7 сот.                              1\n",
       "Изготовление промо кружек                                 1\n",
       "Продается кресло-жезлонг                                  1\n",
       "Неисправная Видеокарта MSI nvidia GeForce GT 640          1\n",
       "Сумка женская, кожа и замша                               1\n",
       "Wi-fi модуль USB                                          1\n",
       "Демисезонные замшевые ботиночки                           1\n",
       "Лекгая кофточка                                           1\n",
       "Натяжные потолки в Туле и Области                         1\n",
       "Стульчик-качелии Unico. В наличии                         1\n",
       "Н.Н. Равенский \"Как читать человека\" книга                1\n",
       "Носки 5 шт                                                1\n",
       "Газовая тепловая пушка парма тпг-30                       1\n",
       "Террасная доска от производителя                          1\n",
       "Современное Селфи-кольцо и монопод в Подарок!             1\n",
       "Телефон Samsung Galaxy S5 mini                            1\n",
       "Прицеп легковой 1992 года                                 1\n",
       "Д/с костюм на мальчика                                    1\n",
       "Материал: Стальная труба диаметром 10, 16, 30 мм;         1\n",
       "Продам селфи-палку                                        1\n",
       "Прицеп коневоз titan                                      1\n",
       "Бензиновый генератор huter 1 квт                          1\n",
       "Сдам в аренду спецтехнику, и легковой транспорт           1\n",
       "Классные джинсы р.29                                      1\n",
       "Акустический кабель Oehlbach XXL(3m)                      1\n",
       "iPad 4 lte                                                1\n",
       "Name: title, Length: 788377, dtype: int64"
      ]
     },
     "execution_count": 32,
     "metadata": {},
     "output_type": "execute_result"
    }
   ],
   "source": [
    "train['title'].value_counts()"
   ]
  },
  {
   "cell_type": "code",
   "execution_count": 7,
   "metadata": {},
   "outputs": [
    {
     "data": {
      "text/html": [
       "<div>\n",
       "<style>\n",
       "    .dataframe thead tr:only-child th {\n",
       "        text-align: right;\n",
       "    }\n",
       "\n",
       "    .dataframe thead th {\n",
       "        text-align: left;\n",
       "    }\n",
       "\n",
       "    .dataframe tbody tr th {\n",
       "        vertical-align: top;\n",
       "    }\n",
       "</style>\n",
       "<table border=\"1\" class=\"dataframe\">\n",
       "  <thead>\n",
       "    <tr style=\"text-align: right;\">\n",
       "      <th></th>\n",
       "      <th>item_id</th>\n",
       "      <th>activation_date</th>\n",
       "      <th>date_from</th>\n",
       "      <th>date_to</th>\n",
       "    </tr>\n",
       "  </thead>\n",
       "  <tbody>\n",
       "    <tr>\n",
       "      <th>0</th>\n",
       "      <td>8f5caef7afb0</td>\n",
       "      <td>2017-02-14</td>\n",
       "      <td>2017-03-15</td>\n",
       "      <td>2017-03-16</td>\n",
       "    </tr>\n",
       "    <tr>\n",
       "      <th>1</th>\n",
       "      <td>66218ff526d1</td>\n",
       "      <td>2017-02-16</td>\n",
       "      <td>2017-03-15</td>\n",
       "      <td>2017-03-18</td>\n",
       "    </tr>\n",
       "    <tr>\n",
       "      <th>2</th>\n",
       "      <td>b237d9539b21</td>\n",
       "      <td>2017-03-01</td>\n",
       "      <td>2017-03-15</td>\n",
       "      <td>2017-03-28</td>\n",
       "    </tr>\n",
       "  </tbody>\n",
       "</table>\n",
       "</div>"
      ],
      "text/plain": [
       "        item_id activation_date   date_from     date_to\n",
       "0  8f5caef7afb0      2017-02-14  2017-03-15  2017-03-16\n",
       "1  66218ff526d1      2017-02-16  2017-03-15  2017-03-18\n",
       "2  b237d9539b21      2017-03-01  2017-03-15  2017-03-28"
      ]
     },
     "execution_count": 7,
     "metadata": {},
     "output_type": "execute_result"
    }
   ],
   "source": [
    "periods_train.head(3)"
   ]
  },
  {
   "cell_type": "code",
   "execution_count": 23,
   "metadata": {
    "collapsed": true
   },
   "outputs": [],
   "source": [
    "ck_size=1200\n",
    "ck=iter(pd.read_csv(train_active_dir,iterator = True,chunksize=ck_size))"
   ]
  },
  {
   "cell_type": "code",
   "execution_count": 24,
   "metadata": {},
   "outputs": [
    {
     "name": "stdout",
     "output_type": "stream",
     "text": [
      "row counts: 14130000\n"
     ]
    }
   ],
   "source": [
    "row_num=0\n",
    "while True:\n",
    "    try:\n",
    "        each = next(ck)\n",
    "        row_num+=ck_size\n",
    "    except StopIteration:\n",
    "        break\n",
    "print('row counts:',row_num)"
   ]
  },
  {
   "cell_type": "code",
   "execution_count": null,
   "metadata": {
    "collapsed": true
   },
   "outputs": [],
   "source": []
  }
 ],
 "metadata": {
  "kernelspec": {
   "display_name": "Python 3",
   "language": "python",
   "name": "python3"
  },
  "language_info": {
   "codemirror_mode": {
    "name": "ipython",
    "version": 3
   },
   "file_extension": ".py",
   "mimetype": "text/x-python",
   "name": "python",
   "nbconvert_exporter": "python",
   "pygments_lexer": "ipython3",
   "version": "3.6.2"
  }
 },
 "nbformat": 4,
 "nbformat_minor": 2
}
